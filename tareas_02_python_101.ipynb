{
  "nbformat": 4,
  "nbformat_minor": 0,
  "metadata": {
    "colab": {
      "name": "tareas/02-python-101.ipynb",
      "provenance": [],
      "collapsed_sections": [],
      "authorship_tag": "ABX9TyNsP0y681h+zS/OlboyTvC2",
      "include_colab_link": true
    },
    "kernelspec": {
      "name": "python3",
      "display_name": "Python 3"
    }
  },
  "cells": [
    {
      "cell_type": "markdown",
      "metadata": {
        "id": "view-in-github",
        "colab_type": "text"
      },
      "source": [
        "<a href=\"https://colab.research.google.com/github/escorpioh/hacking-civico/blob/master/tareas_02_python_101.ipynb\" target=\"_parent\"><img src=\"https://colab.research.google.com/assets/colab-badge.svg\" alt=\"Open In Colab\"/></a>"
      ]
    },
    {
      "cell_type": "code",
      "metadata": {
        "id": "WwojZqO0UgIf",
        "colab_type": "code",
        "colab": {
          "base_uri": "https://localhost:8080/",
          "height": 408
        },
        "outputId": "4bc1d9d5-9697-4677-810e-ace72ef67ede"
      },
      "source": [
        "#Acorde a la información del INEGI al año 2015 http://cuentame.inegi.org.mx/monografias/informacion/df/poblacion/:\n",
        "#Números de habitantes en la Alcaldía Benito Juárez = 417,416 Personas\n",
        "#Números de habitantes en la CDMX = 8,918,653 Personas \n",
        "#Número de habitantes en México = 119,530,753 Personas\n",
        "\n",
        "#Superficie en km2 de la Alcaldía Benito Juárez = 26.67  km2 fuente: https://alcaldiabenitojuarez.gob.mx/documentos/4-trimestre/anexos/prog_del_2015-1018.pdf\"\n",
        "#Superficie en km2 de la CDMX (Extensión: Representa 0.08% del territorio nacional) 156815.12 = km2 fuente: http://cuentame.inegi.org.mx/monografias/informacion/df/default.aspx?tema=me&e=09\n",
        "#Superficie en km2 del área continental de México = 1,960,189 km2 fuente: http://cuentame.inegi.org.mx/territorio/extension/default.aspx?tema=T\n",
        "\n",
        "\n",
        "#Fuente INEGI: La relación entre un espacio determinado y el número de personas que lo habitan se llama densidad de población, \n",
        "#la cual se obtiene dividiendo el número de personas que viven en un lugar específico entre el número de kilómetros cuadrados \n",
        "#que mide ese territorio, a nivel nacional la densidad de población es de 61 hab/km2.\n",
        "\n",
        "areacdmx = 1960189*0.08\n",
        "print(\"El área de la CDMX es de: \"+str(areacdmx)+\" km\")\n",
        "print()\n",
        "print()\n",
        "print()\n",
        "\n",
        "def densidad_poblacional(numero_de_personas, kilometros_cuadrados):\n",
        "  resultado = numero_de_personas / kilometros_cuadrados\n",
        "  return resultado\n",
        "print(\"Paso uno de la tarea 2\")\n",
        "print()\n",
        "print()\n",
        "benito_juarez = densidad_poblacional(417416,26.67)\n",
        "print(\"La densidad de población de la Alcaldía Benito Juárez es de: \"+str(benito_juarez)+\" hab/km2\")\n",
        "print()\n",
        "cdmx = densidad_poblacional(8918653,156815.12)\n",
        "print(\"La densidad de población de la CDMX es de: \"+str(cdmx)+\" hab/km2\")\n",
        "print()\n",
        "mexico = densidad_poblacional(119530753,1960189)\n",
        "print(\"La densidad de población de México es de: \"+str(mexico)+\" hab/km2\")\n",
        "\n",
        "\n",
        "#Egresos de la CDMX en el apartado de Construcción de vías de comunicación:\n",
        "#2018 = $1,346,067,470 Pesos\n",
        "#2019 =  $779,733,301 Pesos\n",
        "#fuente: https://www.inegi.org.mx/programas/finanzas/default.html#Tabulados\n",
        "print()\n",
        "print()\n",
        "print(\"Paso dos de la tarea 2\")\n",
        "print()\n",
        "print()\n",
        "def gasto_per_capita(egresos,poblacion):\n",
        "  res_gasto_per_capita = egresos / poblacion\n",
        "  return res_gasto_per_capita\n",
        "\n",
        "cdmx2018 = gasto_per_capita(1346067470,8918653)\n",
        "print(\"El gasto per capita en el apartado de Construcción de vías de comunicación en la CDMX en el año de 2018 es de: \"+str(cdmx2018)+\"Pesos\")\n",
        "print()\n",
        "cdmx2019 = gasto_per_capita(779733301,8918653)\n",
        "print(\"El gasto per capita en el apartado de Construcción de vías de comunicación en la CDMX en el año de 2019 es de: \"+str(cdmx2019)+\"Pesos\")\n",
        "print()\n",
        "print()\n",
        "porcentaje_variacio_anual=((cdmx2019*100)/cdmx2018)\n",
        "print(\"El gasto per capita en el año 2019 es el \" +str(porcentaje_variacio_anual)+\" porciento del gasto per capita del año 2018\")\n"
      ],
      "execution_count": 22,
      "outputs": [
        {
          "output_type": "stream",
          "text": [
            "El área de la CDMX es de: 156815.12 km\n",
            "\n",
            "\n",
            "\n",
            "Paso uno de la tarea 2\n",
            "\n",
            "\n",
            "La densidad de población de la Alcaldía Benito Juárez es de: 15651.143607049118 hab/km2\n",
            "\n",
            "La densidad de población de la CDMX es de: 56.87368029307378 hab/km2\n",
            "\n",
            "La densidad de población de México es de: 60.97919792428179 hab/km2\n",
            "\n",
            "\n",
            "Paso dos de la tarea 2\n",
            "\n",
            "\n",
            "El gasto per capita en el apartado de Construcción de vías de comunicación en la CDMX en el año de 2018 es de: 150.92721625115362Pesos\n",
            "\n",
            "El gasto per capita en el apartado de Construcción de vías de comunicación en la CDMX en el año de 2019 es de: 87.42724949608422Pesos\n",
            "\n",
            "\n",
            "El gasto per capita en el año 2019 es el 57.92676209610801 porciento del gasto per capita del año 2018\n"
          ],
          "name": "stdout"
        }
      ]
    }
  ]
}