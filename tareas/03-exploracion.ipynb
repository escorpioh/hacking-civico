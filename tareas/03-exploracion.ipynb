{
  "nbformat": 4,
  "nbformat_minor": 0,
  "metadata": {
    "colab": {
      "name": "tareas/03-exploracion.ipynb",
      "provenance": [],
      "collapsed_sections": [],
      "authorship_tag": "ABX9TyM9DQNMZA0iT093huhTpNl8",
      "include_colab_link": true
    },
    "kernelspec": {
      "name": "python3",
      "display_name": "Python 3"
    }
  },
  "cells": [
    {
      "cell_type": "markdown",
      "metadata": {
        "id": "view-in-github",
        "colab_type": "text"
      },
      "source": [
        "<a href=\"https://colab.research.google.com/github/escorpioh/hacking-civico/blob/master/tareas/03-exploracion.ipynb\" target=\"_parent\"><img src=\"https://colab.research.google.com/assets/colab-badge.svg\" alt=\"Open In Colab\"/></a>"
      ]
    },
    {
      "cell_type": "code",
      "metadata": {
        "id": "vrbBup0KtM63",
        "colab_type": "code",
        "colab": {
          "base_uri": "https://localhost:8080/",
          "height": 567
        },
        "outputId": "fc1c37e8-ad85-4317-ffa1-b01a2489d2a8"
      },
      "source": [
        "# Para descargar el conjunto de datos\n",
        "!wget http://datosabiertos.salud.gob.mx/gobmx/salud/datos_abiertos/datos_abiertos_covid19.zip\n",
        "\n",
        "# Para descargar el diccionario de los datos\n",
        "!wget http://epidemiologia.salud.gob.mx/gobmx/salud/datos_abiertos/diccionario_datos_covid19.zip\n",
        "\n",
        "# Descomprimimos ambas carpetas y movemos archivos\n",
        "!unzip datos_abiertos_covid19.zip\n",
        "!unzip diccionario_datos_covid19.zip\n",
        "!mv ./diccionario_datos_covid19/*.xlsx .\n",
        "!mv *COVID19MEXICO.csv COVID19MEXICO.csv\n",
        "\n",
        "# Eliminamos las carpetas comprimidas\n",
        "!rm -rf diccionario_datos_covid19\n",
        "!rm datos_abiertos_covid19.zip\n",
        "!rm diccionario_datos_covid19.zip"
      ],
      "execution_count": 5,
      "outputs": [
        {
          "output_type": "stream",
          "text": [
            "--2020-09-20 23:28:50--  http://datosabiertos.salud.gob.mx/gobmx/salud/datos_abiertos/datos_abiertos_covid19.zip\n",
            "Resolving datosabiertos.salud.gob.mx (datosabiertos.salud.gob.mx)... 187.210.186.146\n",
            "Connecting to datosabiertos.salud.gob.mx (datosabiertos.salud.gob.mx)|187.210.186.146|:80... connected.\n",
            "HTTP request sent, awaiting response... 200 OK\n",
            "Length: 33390212 (32M) [application/x-zip-compressed]\n",
            "Saving to: ‘datos_abiertos_covid19.zip’\n",
            "\n",
            "datos_abiertos_covi 100%[===================>]  31.84M  20.8MB/s    in 1.5s    \n",
            "\n",
            "2020-09-20 23:28:52 (20.8 MB/s) - ‘datos_abiertos_covid19.zip’ saved [33390212/33390212]\n",
            "\n",
            "--2020-09-20 23:28:52--  http://epidemiologia.salud.gob.mx/gobmx/salud/datos_abiertos/diccionario_datos_covid19.zip\n",
            "Resolving epidemiologia.salud.gob.mx (epidemiologia.salud.gob.mx)... 187.191.75.207\n",
            "Connecting to epidemiologia.salud.gob.mx (epidemiologia.salud.gob.mx)|187.191.75.207|:80... connected.\n",
            "HTTP request sent, awaiting response... 301 Moved Permanently\n",
            "Location: https://epidemiologia.salud.gob.mx/gobmx/salud/datos_abiertos/diccionario_datos_covid19.zip [following]\n",
            "--2020-09-20 23:28:52--  https://epidemiologia.salud.gob.mx/gobmx/salud/datos_abiertos/diccionario_datos_covid19.zip\n",
            "Connecting to epidemiologia.salud.gob.mx (epidemiologia.salud.gob.mx)|187.191.75.207|:443... connected.\n",
            "HTTP request sent, awaiting response... 200 OK\n",
            "Length: 81416 (80K) [application/x-zip-compressed]\n",
            "Saving to: ‘diccionario_datos_covid19.zip’\n",
            "\n",
            "diccionario_datos_c 100%[===================>]  79.51K  --.-KB/s    in 0.06s   \n",
            "\n",
            "2020-09-20 23:28:52 (1.25 MB/s) - ‘diccionario_datos_covid19.zip’ saved [81416/81416]\n",
            "\n",
            "Archive:  datos_abiertos_covid19.zip\n",
            "  inflating: 200919COVID19MEXICO.csv  \n",
            "Archive:  diccionario_datos_covid19.zip\n",
            "  inflating: diccionario_datos_covid19/Catalogos_0412.xlsx  \n",
            "  inflating: diccionario_datos_covid19/Descriptores_0419.xlsx  \n"
          ],
          "name": "stdout"
        }
      ]
    },
    {
      "cell_type": "code",
      "metadata": {
        "id": "hq4_-ZZ9t7yO",
        "colab_type": "code",
        "colab": {}
      },
      "source": [
        "import statistics\n",
        "\n",
        "import pandas as pd\n",
        "import numpy as np"
      ],
      "execution_count": 45,
      "outputs": []
    },
    {
      "cell_type": "code",
      "metadata": {
        "id": "TWc9BqmYuCbq",
        "colab_type": "code",
        "colab": {}
      },
      "source": [
        "# Especificamos el nombre del archivo por abrir\n",
        "nombre_archivo = 'COVID19MEXICO.csv'\n",
        "\n",
        "# Utilizamos la función de Pandas para cargar un archivo CSV\n",
        "data = pd.read_csv(nombre_archivo, encoding='latin-1')"
      ],
      "execution_count": 72,
      "outputs": []
    },
    {
      "cell_type": "code",
      "metadata": {
        "id": "-nZWexG1uIA7",
        "colab_type": "code",
        "colab": {
          "base_uri": "https://localhost:8080/",
          "height": 217
        },
        "outputId": "e5260bbf-f8c3-4ec5-8b13-ecb5f0d7e4b2"
      },
      "source": [
        "data.head()"
      ],
      "execution_count": 73,
      "outputs": [
        {
          "output_type": "execute_result",
          "data": {
            "text/html": [
              "<div>\n",
              "<style scoped>\n",
              "    .dataframe tbody tr th:only-of-type {\n",
              "        vertical-align: middle;\n",
              "    }\n",
              "\n",
              "    .dataframe tbody tr th {\n",
              "        vertical-align: top;\n",
              "    }\n",
              "\n",
              "    .dataframe thead th {\n",
              "        text-align: right;\n",
              "    }\n",
              "</style>\n",
              "<table border=\"1\" class=\"dataframe\">\n",
              "  <thead>\n",
              "    <tr style=\"text-align: right;\">\n",
              "      <th></th>\n",
              "      <th>FECHA_ACTUALIZACION</th>\n",
              "      <th>ID_REGISTRO</th>\n",
              "      <th>ORIGEN</th>\n",
              "      <th>SECTOR</th>\n",
              "      <th>ENTIDAD_UM</th>\n",
              "      <th>SEXO</th>\n",
              "      <th>ENTIDAD_NAC</th>\n",
              "      <th>ENTIDAD_RES</th>\n",
              "      <th>MUNICIPIO_RES</th>\n",
              "      <th>TIPO_PACIENTE</th>\n",
              "      <th>FECHA_INGRESO</th>\n",
              "      <th>FECHA_SINTOMAS</th>\n",
              "      <th>FECHA_DEF</th>\n",
              "      <th>INTUBADO</th>\n",
              "      <th>NEUMONIA</th>\n",
              "      <th>EDAD</th>\n",
              "      <th>NACIONALIDAD</th>\n",
              "      <th>EMBARAZO</th>\n",
              "      <th>HABLA_LENGUA_INDIG</th>\n",
              "      <th>DIABETES</th>\n",
              "      <th>EPOC</th>\n",
              "      <th>ASMA</th>\n",
              "      <th>INMUSUPR</th>\n",
              "      <th>HIPERTENSION</th>\n",
              "      <th>OTRA_COM</th>\n",
              "      <th>CARDIOVASCULAR</th>\n",
              "      <th>OBESIDAD</th>\n",
              "      <th>RENAL_CRONICA</th>\n",
              "      <th>TABAQUISMO</th>\n",
              "      <th>OTRO_CASO</th>\n",
              "      <th>RESULTADO</th>\n",
              "      <th>MIGRANTE</th>\n",
              "      <th>PAIS_NACIONALIDAD</th>\n",
              "      <th>PAIS_ORIGEN</th>\n",
              "      <th>UCI</th>\n",
              "    </tr>\n",
              "  </thead>\n",
              "  <tbody>\n",
              "    <tr>\n",
              "      <th>0</th>\n",
              "      <td>2020-09-19</td>\n",
              "      <td>13f301</td>\n",
              "      <td>2</td>\n",
              "      <td>3</td>\n",
              "      <td>15</td>\n",
              "      <td>2</td>\n",
              "      <td>9</td>\n",
              "      <td>15</td>\n",
              "      <td>106</td>\n",
              "      <td>2</td>\n",
              "      <td>2020-05-27</td>\n",
              "      <td>2020-05-25</td>\n",
              "      <td>9999-99-99</td>\n",
              "      <td>2</td>\n",
              "      <td>2</td>\n",
              "      <td>54</td>\n",
              "      <td>1</td>\n",
              "      <td>97</td>\n",
              "      <td>2</td>\n",
              "      <td>2</td>\n",
              "      <td>2</td>\n",
              "      <td>2</td>\n",
              "      <td>2</td>\n",
              "      <td>2</td>\n",
              "      <td>2</td>\n",
              "      <td>2</td>\n",
              "      <td>2</td>\n",
              "      <td>2</td>\n",
              "      <td>2</td>\n",
              "      <td>2</td>\n",
              "      <td>1</td>\n",
              "      <td>99</td>\n",
              "      <td>MÃ©xico</td>\n",
              "      <td>99</td>\n",
              "      <td>2</td>\n",
              "    </tr>\n",
              "    <tr>\n",
              "      <th>1</th>\n",
              "      <td>2020-09-19</td>\n",
              "      <td>0e7edf</td>\n",
              "      <td>2</td>\n",
              "      <td>3</td>\n",
              "      <td>27</td>\n",
              "      <td>2</td>\n",
              "      <td>27</td>\n",
              "      <td>27</td>\n",
              "      <td>4</td>\n",
              "      <td>1</td>\n",
              "      <td>2020-06-18</td>\n",
              "      <td>2020-06-08</td>\n",
              "      <td>9999-99-99</td>\n",
              "      <td>97</td>\n",
              "      <td>2</td>\n",
              "      <td>31</td>\n",
              "      <td>1</td>\n",
              "      <td>97</td>\n",
              "      <td>2</td>\n",
              "      <td>2</td>\n",
              "      <td>2</td>\n",
              "      <td>2</td>\n",
              "      <td>2</td>\n",
              "      <td>2</td>\n",
              "      <td>2</td>\n",
              "      <td>2</td>\n",
              "      <td>2</td>\n",
              "      <td>2</td>\n",
              "      <td>1</td>\n",
              "      <td>1</td>\n",
              "      <td>1</td>\n",
              "      <td>99</td>\n",
              "      <td>MÃ©xico</td>\n",
              "      <td>99</td>\n",
              "      <td>97</td>\n",
              "    </tr>\n",
              "    <tr>\n",
              "      <th>2</th>\n",
              "      <td>2020-09-19</td>\n",
              "      <td>10d9be</td>\n",
              "      <td>2</td>\n",
              "      <td>4</td>\n",
              "      <td>2</td>\n",
              "      <td>2</td>\n",
              "      <td>10</td>\n",
              "      <td>2</td>\n",
              "      <td>4</td>\n",
              "      <td>2</td>\n",
              "      <td>2020-04-06</td>\n",
              "      <td>2020-03-28</td>\n",
              "      <td>2020-04-12</td>\n",
              "      <td>1</td>\n",
              "      <td>1</td>\n",
              "      <td>43</td>\n",
              "      <td>1</td>\n",
              "      <td>97</td>\n",
              "      <td>2</td>\n",
              "      <td>2</td>\n",
              "      <td>2</td>\n",
              "      <td>2</td>\n",
              "      <td>2</td>\n",
              "      <td>2</td>\n",
              "      <td>2</td>\n",
              "      <td>2</td>\n",
              "      <td>2</td>\n",
              "      <td>2</td>\n",
              "      <td>2</td>\n",
              "      <td>99</td>\n",
              "      <td>1</td>\n",
              "      <td>99</td>\n",
              "      <td>MÃ©xico</td>\n",
              "      <td>99</td>\n",
              "      <td>2</td>\n",
              "    </tr>\n",
              "    <tr>\n",
              "      <th>3</th>\n",
              "      <td>2020-09-19</td>\n",
              "      <td>11a9b3</td>\n",
              "      <td>2</td>\n",
              "      <td>4</td>\n",
              "      <td>9</td>\n",
              "      <td>2</td>\n",
              "      <td>9</td>\n",
              "      <td>15</td>\n",
              "      <td>58</td>\n",
              "      <td>1</td>\n",
              "      <td>2020-04-20</td>\n",
              "      <td>2020-04-20</td>\n",
              "      <td>9999-99-99</td>\n",
              "      <td>97</td>\n",
              "      <td>2</td>\n",
              "      <td>32</td>\n",
              "      <td>1</td>\n",
              "      <td>97</td>\n",
              "      <td>2</td>\n",
              "      <td>2</td>\n",
              "      <td>2</td>\n",
              "      <td>2</td>\n",
              "      <td>2</td>\n",
              "      <td>1</td>\n",
              "      <td>2</td>\n",
              "      <td>2</td>\n",
              "      <td>2</td>\n",
              "      <td>2</td>\n",
              "      <td>2</td>\n",
              "      <td>1</td>\n",
              "      <td>1</td>\n",
              "      <td>99</td>\n",
              "      <td>MÃ©xico</td>\n",
              "      <td>99</td>\n",
              "      <td>97</td>\n",
              "    </tr>\n",
              "    <tr>\n",
              "      <th>4</th>\n",
              "      <td>2020-09-19</td>\n",
              "      <td>077c96</td>\n",
              "      <td>2</td>\n",
              "      <td>4</td>\n",
              "      <td>9</td>\n",
              "      <td>2</td>\n",
              "      <td>16</td>\n",
              "      <td>9</td>\n",
              "      <td>5</td>\n",
              "      <td>2</td>\n",
              "      <td>2020-04-30</td>\n",
              "      <td>2020-04-30</td>\n",
              "      <td>2020-05-15</td>\n",
              "      <td>1</td>\n",
              "      <td>1</td>\n",
              "      <td>66</td>\n",
              "      <td>1</td>\n",
              "      <td>97</td>\n",
              "      <td>2</td>\n",
              "      <td>2</td>\n",
              "      <td>2</td>\n",
              "      <td>2</td>\n",
              "      <td>2</td>\n",
              "      <td>2</td>\n",
              "      <td>2</td>\n",
              "      <td>2</td>\n",
              "      <td>2</td>\n",
              "      <td>2</td>\n",
              "      <td>2</td>\n",
              "      <td>1</td>\n",
              "      <td>1</td>\n",
              "      <td>99</td>\n",
              "      <td>MÃ©xico</td>\n",
              "      <td>99</td>\n",
              "      <td>1</td>\n",
              "    </tr>\n",
              "  </tbody>\n",
              "</table>\n",
              "</div>"
            ],
            "text/plain": [
              "  FECHA_ACTUALIZACION ID_REGISTRO  ORIGEN  ...  PAIS_NACIONALIDAD  PAIS_ORIGEN  UCI\n",
              "0          2020-09-19      13f301       2  ...            MÃ©xico           99    2\n",
              "1          2020-09-19      0e7edf       2  ...            MÃ©xico           99   97\n",
              "2          2020-09-19      10d9be       2  ...            MÃ©xico           99    2\n",
              "3          2020-09-19      11a9b3       2  ...            MÃ©xico           99   97\n",
              "4          2020-09-19      077c96       2  ...            MÃ©xico           99    1\n",
              "\n",
              "[5 rows x 35 columns]"
            ]
          },
          "metadata": {
            "tags": []
          },
          "execution_count": 73
        }
      ]
    },
    {
      "cell_type": "code",
      "metadata": {
        "id": "iqRamFq8wMqo",
        "colab_type": "code",
        "colab": {}
      },
      "source": [
        "import altair as alt\n",
        "import seaborn as sns\n"
      ],
      "execution_count": 74,
      "outputs": []
    },
    {
      "cell_type": "code",
      "metadata": {
        "id": "PU0NNRJO1F2z",
        "colab_type": "code",
        "colab": {}
      },
      "source": [
        "nombre_diccionario = 'Descriptores_0419.xlsx'\n",
        "diccionario = pd.read_excel(nombre_diccionario)"
      ],
      "execution_count": 75,
      "outputs": []
    },
    {
      "cell_type": "code",
      "metadata": {
        "id": "VTeanglq2gWx",
        "colab_type": "code",
        "colab": {
          "base_uri": "https://localhost:8080/",
          "height": 1000
        },
        "outputId": "9abffb97-c3af-46e9-9c2d-3a291a1b126a"
      },
      "source": [
        "diccionario"
      ],
      "execution_count": 76,
      "outputs": [
        {
          "output_type": "execute_result",
          "data": {
            "text/html": [
              "<div>\n",
              "<style scoped>\n",
              "    .dataframe tbody tr th:only-of-type {\n",
              "        vertical-align: middle;\n",
              "    }\n",
              "\n",
              "    .dataframe tbody tr th {\n",
              "        vertical-align: top;\n",
              "    }\n",
              "\n",
              "    .dataframe thead th {\n",
              "        text-align: right;\n",
              "    }\n",
              "</style>\n",
              "<table border=\"1\" class=\"dataframe\">\n",
              "  <thead>\n",
              "    <tr style=\"text-align: right;\">\n",
              "      <th></th>\n",
              "      <th>Nº</th>\n",
              "      <th>NOMBRE DE VARIABLE</th>\n",
              "      <th>DESCRIPCIÓN DE VARIABLE</th>\n",
              "      <th>FORMATO O FUENTE</th>\n",
              "    </tr>\n",
              "  </thead>\n",
              "  <tbody>\n",
              "    <tr>\n",
              "      <th>0</th>\n",
              "      <td>1</td>\n",
              "      <td>FECHA_ACTUALIZACION</td>\n",
              "      <td>La base de datos se alimenta diariamente, esta...</td>\n",
              "      <td>AAAA-MM-DD</td>\n",
              "    </tr>\n",
              "    <tr>\n",
              "      <th>1</th>\n",
              "      <td>2</td>\n",
              "      <td>ID_REGISTRO</td>\n",
              "      <td>Número identificador del caso</td>\n",
              "      <td>TEXTO</td>\n",
              "    </tr>\n",
              "    <tr>\n",
              "      <th>2</th>\n",
              "      <td>3</td>\n",
              "      <td>ORIGEN</td>\n",
              "      <td>La vigilancia centinela se realiza a través de...</td>\n",
              "      <td>CATÁLOGO: ORIGEN                              ...</td>\n",
              "    </tr>\n",
              "    <tr>\n",
              "      <th>3</th>\n",
              "      <td>4</td>\n",
              "      <td>SECTOR</td>\n",
              "      <td>Identifica el tipo de institución del Sistema ...</td>\n",
              "      <td>CATÁLOGO: SECTOR                              ...</td>\n",
              "    </tr>\n",
              "    <tr>\n",
              "      <th>4</th>\n",
              "      <td>5</td>\n",
              "      <td>ENTIDAD_UM</td>\n",
              "      <td>Identifica la entidad donde se ubica la unidad...</td>\n",
              "      <td>CATALÓGO: ENTIDADES</td>\n",
              "    </tr>\n",
              "    <tr>\n",
              "      <th>5</th>\n",
              "      <td>6</td>\n",
              "      <td>SEXO</td>\n",
              "      <td>Identifica al sexo del paciente.</td>\n",
              "      <td>CATÁLOGO: SEXO</td>\n",
              "    </tr>\n",
              "    <tr>\n",
              "      <th>6</th>\n",
              "      <td>7</td>\n",
              "      <td>ENTIDAD_NAC</td>\n",
              "      <td>Identifica la entidad de nacimiento del paciente.</td>\n",
              "      <td>CATALÓGO: ENTIDADES</td>\n",
              "    </tr>\n",
              "    <tr>\n",
              "      <th>7</th>\n",
              "      <td>8</td>\n",
              "      <td>ENTIDAD_RES</td>\n",
              "      <td>Identifica la entidad de residencia del paciente.</td>\n",
              "      <td>CATALÓGO: ENTIDADES</td>\n",
              "    </tr>\n",
              "    <tr>\n",
              "      <th>8</th>\n",
              "      <td>9</td>\n",
              "      <td>MUNICIPIO_RES</td>\n",
              "      <td>Identifica el municipio de residencia del paci...</td>\n",
              "      <td>CATALÓGO: MUNICIPIOS</td>\n",
              "    </tr>\n",
              "    <tr>\n",
              "      <th>9</th>\n",
              "      <td>10</td>\n",
              "      <td>TIPO_PACIENTE</td>\n",
              "      <td>Identifica el tipo de atención que recibió el ...</td>\n",
              "      <td>CATÁLOGO: TIPO_PACIENTE</td>\n",
              "    </tr>\n",
              "    <tr>\n",
              "      <th>10</th>\n",
              "      <td>11</td>\n",
              "      <td>FECHA_INGRESO</td>\n",
              "      <td>Identifica la fecha de ingreso del paciente a ...</td>\n",
              "      <td>AAAA-MM-DD</td>\n",
              "    </tr>\n",
              "    <tr>\n",
              "      <th>11</th>\n",
              "      <td>12</td>\n",
              "      <td>FECHA_SINTOMAS</td>\n",
              "      <td>Idenitifica la fecha en que inició la sintomat...</td>\n",
              "      <td>AAAA-MM-DD</td>\n",
              "    </tr>\n",
              "    <tr>\n",
              "      <th>12</th>\n",
              "      <td>13</td>\n",
              "      <td>FECHA_DEF</td>\n",
              "      <td>Identifica la fecha en que el paciente falleció.</td>\n",
              "      <td>AAAA-MM-DD</td>\n",
              "    </tr>\n",
              "    <tr>\n",
              "      <th>13</th>\n",
              "      <td>14</td>\n",
              "      <td>INTUBADO</td>\n",
              "      <td>Identifica si el paciente requirió de intubación.</td>\n",
              "      <td>CATÁLOGO: SI_ NO                              ...</td>\n",
              "    </tr>\n",
              "    <tr>\n",
              "      <th>14</th>\n",
              "      <td>15</td>\n",
              "      <td>NEUMONIA</td>\n",
              "      <td>Identifica si al paciente se le diagnosticó co...</td>\n",
              "      <td>CATÁLOGO: SI_ NO                              ...</td>\n",
              "    </tr>\n",
              "    <tr>\n",
              "      <th>15</th>\n",
              "      <td>16</td>\n",
              "      <td>EDAD</td>\n",
              "      <td>Identifica la edad del paciente.</td>\n",
              "      <td>NÚMERICA EN AÑOS</td>\n",
              "    </tr>\n",
              "    <tr>\n",
              "      <th>16</th>\n",
              "      <td>17</td>\n",
              "      <td>NACIONALIDAD</td>\n",
              "      <td>Identifica si el paciente es mexicano o extran...</td>\n",
              "      <td>CATÁLOGO: NACIONALIDAD</td>\n",
              "    </tr>\n",
              "    <tr>\n",
              "      <th>17</th>\n",
              "      <td>18</td>\n",
              "      <td>EMBARAZO</td>\n",
              "      <td>Identifica si la paciente está embarazada.</td>\n",
              "      <td>CATÁLOGO: SI_ NO                              ...</td>\n",
              "    </tr>\n",
              "    <tr>\n",
              "      <th>18</th>\n",
              "      <td>19</td>\n",
              "      <td>HABLA_LENGUA_INDIG</td>\n",
              "      <td>Identifica si el paciente habla lengua índigena.</td>\n",
              "      <td>CATÁLOGO: SI_ NO                              ...</td>\n",
              "    </tr>\n",
              "    <tr>\n",
              "      <th>19</th>\n",
              "      <td>20</td>\n",
              "      <td>DIABETES</td>\n",
              "      <td>Identifica si el paciente tiene un diagnóstico...</td>\n",
              "      <td>CATÁLOGO: SI_ NO                              ...</td>\n",
              "    </tr>\n",
              "    <tr>\n",
              "      <th>20</th>\n",
              "      <td>21</td>\n",
              "      <td>EPOC</td>\n",
              "      <td>Identifica si el paciente tiene un diagnóstico...</td>\n",
              "      <td>CATÁLOGO: SI_ NO                              ...</td>\n",
              "    </tr>\n",
              "    <tr>\n",
              "      <th>21</th>\n",
              "      <td>22</td>\n",
              "      <td>ASMA</td>\n",
              "      <td>Identifica si el paciente tiene un diagnóstico...</td>\n",
              "      <td>CATÁLOGO: SI_ NO                              ...</td>\n",
              "    </tr>\n",
              "    <tr>\n",
              "      <th>22</th>\n",
              "      <td>23</td>\n",
              "      <td>INMUSUPR</td>\n",
              "      <td>Identifica si el paciente presenta inmunosupre...</td>\n",
              "      <td>CATÁLOGO: SI_ NO                              ...</td>\n",
              "    </tr>\n",
              "    <tr>\n",
              "      <th>23</th>\n",
              "      <td>24</td>\n",
              "      <td>HIPERTENSION</td>\n",
              "      <td>Identifica si el paciente tiene un diagnóstico...</td>\n",
              "      <td>CATÁLOGO: SI_ NO                              ...</td>\n",
              "    </tr>\n",
              "    <tr>\n",
              "      <th>24</th>\n",
              "      <td>25</td>\n",
              "      <td>OTRAS_COM</td>\n",
              "      <td>Identifica si el paciente tiene diagnóstico de...</td>\n",
              "      <td>CATÁLOGO: SI_ NO                              ...</td>\n",
              "    </tr>\n",
              "    <tr>\n",
              "      <th>25</th>\n",
              "      <td>26</td>\n",
              "      <td>CARDIOVASCULAR</td>\n",
              "      <td>Identifica si el paciente tiene un diagnóstico...</td>\n",
              "      <td>CATÁLOGO: SI_ NO                              ...</td>\n",
              "    </tr>\n",
              "    <tr>\n",
              "      <th>26</th>\n",
              "      <td>27</td>\n",
              "      <td>OBESIDAD</td>\n",
              "      <td>Identifica si el paciente tiene diagnóstico de...</td>\n",
              "      <td>CATÁLOGO: SI_ NO                              ...</td>\n",
              "    </tr>\n",
              "    <tr>\n",
              "      <th>27</th>\n",
              "      <td>28</td>\n",
              "      <td>RENAL_CRONICA</td>\n",
              "      <td>Identifica si el paciente tiene diagnóstico de...</td>\n",
              "      <td>CATÁLOGO: SI_ NO                              ...</td>\n",
              "    </tr>\n",
              "    <tr>\n",
              "      <th>28</th>\n",
              "      <td>29</td>\n",
              "      <td>TABAQUISMO</td>\n",
              "      <td>Identifica si el paciente tiene hábito de taba...</td>\n",
              "      <td>CATÁLOGO: SI_ NO                              ...</td>\n",
              "    </tr>\n",
              "    <tr>\n",
              "      <th>29</th>\n",
              "      <td>30</td>\n",
              "      <td>OTRO_CASO</td>\n",
              "      <td>Identifica si el paciente tuvo contacto con al...</td>\n",
              "      <td>CATÁLOGO: SI_ NO                              ...</td>\n",
              "    </tr>\n",
              "    <tr>\n",
              "      <th>30</th>\n",
              "      <td>31</td>\n",
              "      <td>RESULTADO</td>\n",
              "      <td>Identifica el resultado del análisis de la mue...</td>\n",
              "      <td>CATÁLOGO: RESULTADO</td>\n",
              "    </tr>\n",
              "    <tr>\n",
              "      <th>31</th>\n",
              "      <td>32</td>\n",
              "      <td>MIGRANTE</td>\n",
              "      <td>Identifica si el paciente es una persona migra...</td>\n",
              "      <td>CATÁLOGO: SI_ NO                              ...</td>\n",
              "    </tr>\n",
              "    <tr>\n",
              "      <th>32</th>\n",
              "      <td>33</td>\n",
              "      <td>PAIS_NACIONALIDAD</td>\n",
              "      <td>Identifica la nacionalidad del paciente.</td>\n",
              "      <td>TEXTO, 99= SE IGNORA</td>\n",
              "    </tr>\n",
              "    <tr>\n",
              "      <th>33</th>\n",
              "      <td>34</td>\n",
              "      <td>PAIS_ORIGEN</td>\n",
              "      <td>Identifica el país del que partió el paciente ...</td>\n",
              "      <td>TEXTO, 97= NO APLICA</td>\n",
              "    </tr>\n",
              "    <tr>\n",
              "      <th>34</th>\n",
              "      <td>35</td>\n",
              "      <td>UCI</td>\n",
              "      <td>Identifica si el paciente requirió ingresar a ...</td>\n",
              "      <td>CATÁLOGO: SI_ NO                              ...</td>\n",
              "    </tr>\n",
              "  </tbody>\n",
              "</table>\n",
              "</div>"
            ],
            "text/plain": [
              "    Nº  ...                                   FORMATO O FUENTE\n",
              "0    1  ...                                         AAAA-MM-DD\n",
              "1    2  ...                                             TEXTO \n",
              "2    3  ...  CATÁLOGO: ORIGEN                              ...\n",
              "3    4  ...  CATÁLOGO: SECTOR                              ...\n",
              "4    5  ...                                CATALÓGO: ENTIDADES\n",
              "5    6  ...       CATÁLOGO: SEXO                              \n",
              "6    7  ...                                CATALÓGO: ENTIDADES\n",
              "7    8  ...                                CATALÓGO: ENTIDADES\n",
              "8    9  ...                               CATALÓGO: MUNICIPIOS\n",
              "9   10  ...                           CATÁLOGO: TIPO_PACIENTE \n",
              "10  11  ...                                         AAAA-MM-DD\n",
              "11  12  ...                                         AAAA-MM-DD\n",
              "12  13  ...                                         AAAA-MM-DD\n",
              "13  14  ...  CATÁLOGO: SI_ NO                              ...\n",
              "14  15  ...  CATÁLOGO: SI_ NO                              ...\n",
              "15  16  ...                                   NÚMERICA EN AÑOS\n",
              "16  17  ...                            CATÁLOGO: NACIONALIDAD \n",
              "17  18  ...  CATÁLOGO: SI_ NO                              ...\n",
              "18  19  ...  CATÁLOGO: SI_ NO                              ...\n",
              "19  20  ...  CATÁLOGO: SI_ NO                              ...\n",
              "20  21  ...  CATÁLOGO: SI_ NO                              ...\n",
              "21  22  ...  CATÁLOGO: SI_ NO                              ...\n",
              "22  23  ...  CATÁLOGO: SI_ NO                              ...\n",
              "23  24  ...  CATÁLOGO: SI_ NO                              ...\n",
              "24  25  ...  CATÁLOGO: SI_ NO                              ...\n",
              "25  26  ...  CATÁLOGO: SI_ NO                              ...\n",
              "26  27  ...  CATÁLOGO: SI_ NO                              ...\n",
              "27  28  ...  CATÁLOGO: SI_ NO                              ...\n",
              "28  29  ...  CATÁLOGO: SI_ NO                              ...\n",
              "29  30  ...  CATÁLOGO: SI_ NO                              ...\n",
              "30  31  ...                                CATÁLOGO: RESULTADO\n",
              "31  32  ...  CATÁLOGO: SI_ NO                              ...\n",
              "32  33  ...                               TEXTO, 99= SE IGNORA\n",
              "33  34  ...                               TEXTO, 97= NO APLICA\n",
              "34  35  ...  CATÁLOGO: SI_ NO                              ...\n",
              "\n",
              "[35 rows x 4 columns]"
            ]
          },
          "metadata": {
            "tags": []
          },
          "execution_count": 76
        }
      ]
    },
    {
      "cell_type": "code",
      "metadata": {
        "id": "QyD9FdS32l7c",
        "colab_type": "code",
        "colab": {}
      },
      "source": [
        "nombre_cat = 'Catalogos_0412.xlsx'\n",
        "sheets = ['ORIGEN', 'SECTOR', 'SEXO', 'TIPO_PACIENTE', 'SI_NO', 'NACIONALIDAD', 'RESULTADO', 'de ENTIDADES', 'MUNICIPIOS']\n",
        "catalogues = {}\n",
        "for sheet in sheets:\n",
        "  catalogue = pd.read_excel(nombre_cat, sheet_name='Catálogo ' + sheet)\n",
        "  catalogue.columns = catalogue.columns.str.replace(' ', '_')\n",
        "  catalogue.columns = catalogue.columns.str.replace('.', '')\n",
        "  catalogue.columns = catalogue.columns.str.lower()\n",
        "  new_catalogue = {sheet: catalogue}\n",
        "  catalogues.update(new_catalogue)"
      ],
      "execution_count": 77,
      "outputs": []
    },
    {
      "cell_type": "code",
      "metadata": {
        "id": "i1QHsiml2v4V",
        "colab_type": "code",
        "colab": {
          "base_uri": "https://localhost:8080/",
          "height": 1000
        },
        "outputId": "e9c956b0-12df-4455-c2b8-4dd06cbb96dd"
      },
      "source": [
        "catalogues\n"
      ],
      "execution_count": 78,
      "outputs": [
        {
          "output_type": "execute_result",
          "data": {
            "text/plain": [
              "{'MUNICIPIOS':       clave_municipio        municipio  clave_entidad\n",
              " 0                   1   AGUASCALIENTES              1\n",
              " 1                   2         ASIENTOS              1\n",
              " 2                   3         CALVILLO              1\n",
              " 3                   4            COSÍO              1\n",
              " 4                   5      JESÚS MARÍA              1\n",
              " ...               ...              ...            ...\n",
              " 2496              999  NO ESPECIFICADO             32\n",
              " 2497              999  NO ESPECIFICADO             36\n",
              " 2498              997        NO APLICA             97\n",
              " 2499              998        SE IGNORA             98\n",
              " 2500              999  NO ESPECIFICADO             99\n",
              " \n",
              " [2501 rows x 3 columns], 'NACIONALIDAD':    clave      descripción\n",
              " 0      1         MEXICANA\n",
              " 1      2       EXTRANJERA\n",
              " 2     99  NO ESPECIFICADO, 'ORIGEN':    clave      descripción\n",
              " 0      1            USMER\n",
              " 1      2   FUERA DE USMER\n",
              " 2     99  NO ESPECIFICADO, 'RESULTADO':   unnamed:_0              unnamed:_1\n",
              " 0      CLAVE             DESCRIPCIÓN\n",
              " 1          1     Positivo SARS-CoV-2\n",
              " 2          2  No positivo SARS-CoV-2\n",
              " 3          3     Resultado pendiente, 'SECTOR':     clave      descripción\n",
              " 0       1        CRUZ ROJA\n",
              " 1       2              DIF\n",
              " 2       3          ESTATAL\n",
              " 3       4             IMSS\n",
              " 4       5   IMSS-BIENESTAR\n",
              " 5       6           ISSSTE\n",
              " 6       7        MUNICIPAL\n",
              " 7       8            PEMEX\n",
              " 8       9          PRIVADA\n",
              " 9      10           SEDENA\n",
              " 10     11            SEMAR\n",
              " 11     12              SSA\n",
              " 12     13    UNIVERSITARIO\n",
              " 13     99  NO ESPECIFICADO, 'SEXO':    clave      descripción\n",
              " 0      1            MUJER\n",
              " 1      2           HOMBRE\n",
              " 2     99  NO ESPECIFICADO, 'SI_NO':    clave      descripción\n",
              " 0      1              SI \n",
              " 1      2              NO \n",
              " 2     97        NO APLICA\n",
              " 3     98        SE IGNORA\n",
              " 4     99  NO ESPECIFICADO, 'TIPO_PACIENTE':    clave      descripción\n",
              " 0      1      AMBULATORIO\n",
              " 1      2    HOSPITALIZADO\n",
              " 2     99  NO ESPECIFICADO, 'de ENTIDADES':     clave_entidad               entidad_federativa abreviatura\n",
              " 0               1                   AGUASCALIENTES          AS\n",
              " 1               2                  BAJA CALIFORNIA          BC\n",
              " 2               3              BAJA CALIFORNIA SUR          BS\n",
              " 3               4                         CAMPECHE          CC\n",
              " 4               5             COAHUILA DE ZARAGOZA          CL\n",
              " 5               6                           COLIMA          CM\n",
              " 6               7                          CHIAPAS          CS\n",
              " 7               8                        CHIHUAHUA          CH\n",
              " 8               9                 CIUDAD DE MÉXICO          DF\n",
              " 9              10                          DURANGO          DG\n",
              " 10             11                       GUANAJUATO          GT\n",
              " 11             12                         GUERRERO          GR\n",
              " 12             13                          HIDALGO          HG\n",
              " 13             14                          JALISCO          JC\n",
              " 14             15                           MÉXICO          MC\n",
              " 15             16              MICHOACÁN DE OCAMPO          MN\n",
              " 16             17                          MORELOS          MS\n",
              " 17             18                          NAYARIT          NT\n",
              " 18             19                       NUEVO LEÓN          NL\n",
              " 19             20                           OAXACA          OC\n",
              " 20             21                           PUEBLA          PL\n",
              " 21             22                        QUERÉTARO          QT\n",
              " 22             23                     QUINTANA ROO          QR\n",
              " 23             24                  SAN LUIS POTOSÍ          SP\n",
              " 24             25                          SINALOA          SL\n",
              " 25             26                           SONORA          SR\n",
              " 26             27                          TABASCO          TC\n",
              " 27             28                       TAMAULIPAS          TS\n",
              " 28             29                         TLAXCALA          TL\n",
              " 29             30  VERACRUZ DE IGNACIO DE LA LLAVE          VZ\n",
              " 30             31                          YUCATÁN          YN\n",
              " 31             32                        ZACATECAS          ZS\n",
              " 32             36         ESTADOS UNIDOS MEXICANOS         EUM\n",
              " 33             97                        NO APLICA         NaN\n",
              " 34             98                        SE IGNORA          SI\n",
              " 35             99                  NO ESPECIFICADO          NE}"
            ]
          },
          "metadata": {
            "tags": []
          },
          "execution_count": 78
        }
      ]
    },
    {
      "cell_type": "code",
      "metadata": {
        "id": "nec6h7k-26ZT",
        "colab_type": "code",
        "colab": {
          "base_uri": "https://localhost:8080/",
          "height": 137
        },
        "outputId": "cf3a0f1a-21cf-4e6a-cdd1-bbe3bb6e7276"
      },
      "source": [
        "catalogues['SEXO']"
      ],
      "execution_count": 79,
      "outputs": [
        {
          "output_type": "execute_result",
          "data": {
            "text/html": [
              "<div>\n",
              "<style scoped>\n",
              "    .dataframe tbody tr th:only-of-type {\n",
              "        vertical-align: middle;\n",
              "    }\n",
              "\n",
              "    .dataframe tbody tr th {\n",
              "        vertical-align: top;\n",
              "    }\n",
              "\n",
              "    .dataframe thead th {\n",
              "        text-align: right;\n",
              "    }\n",
              "</style>\n",
              "<table border=\"1\" class=\"dataframe\">\n",
              "  <thead>\n",
              "    <tr style=\"text-align: right;\">\n",
              "      <th></th>\n",
              "      <th>clave</th>\n",
              "      <th>descripción</th>\n",
              "    </tr>\n",
              "  </thead>\n",
              "  <tbody>\n",
              "    <tr>\n",
              "      <th>0</th>\n",
              "      <td>1</td>\n",
              "      <td>MUJER</td>\n",
              "    </tr>\n",
              "    <tr>\n",
              "      <th>1</th>\n",
              "      <td>2</td>\n",
              "      <td>HOMBRE</td>\n",
              "    </tr>\n",
              "    <tr>\n",
              "      <th>2</th>\n",
              "      <td>99</td>\n",
              "      <td>NO ESPECIFICADO</td>\n",
              "    </tr>\n",
              "  </tbody>\n",
              "</table>\n",
              "</div>"
            ],
            "text/plain": [
              "   clave      descripción\n",
              "0      1            MUJER\n",
              "1      2           HOMBRE\n",
              "2     99  NO ESPECIFICADO"
            ]
          },
          "metadata": {
            "tags": []
          },
          "execution_count": 79
        }
      ]
    },
    {
      "cell_type": "code",
      "metadata": {
        "id": "6d-EzCwc3AFJ",
        "colab_type": "code",
        "colab": {}
      },
      "source": [
        "# limpieza del nombre de las columnas, remover espacios, carácteres especiales y pasar a minúsculas\n",
        "data.columns = data.columns.str.replace(' ', '_')\n",
        "data.columns = data.columns.str.replace('.', '')\n",
        "data.columns = data.columns.str.lower()"
      ],
      "execution_count": 80,
      "outputs": []
    },
    {
      "cell_type": "code",
      "metadata": {
        "id": "aAJQjYzV3IaW",
        "colab_type": "code",
        "colab": {}
      },
      "source": [
        "# convertimos a fecha algunas columnas\n",
        "def cast_datetime_cols(df):\n",
        "    timestamp_cols = [col for col in df.columns if \"fecha\" in col]\n",
        "    df[timestamp_cols] = df[timestamp_cols].apply(lambda date_col: pd.to_datetime(date_col, errors=\"coerce\"), axis=0)\n",
        "    return df\n",
        "\n",
        "data = cast_datetime_cols(data)"
      ],
      "execution_count": 81,
      "outputs": []
    },
    {
      "cell_type": "code",
      "metadata": {
        "id": "BMh1XKMK3R7D",
        "colab_type": "code",
        "colab": {
          "base_uri": "https://localhost:8080/",
          "height": 217
        },
        "outputId": "f6bcdf9a-ba88-439a-a74e-255d0ada2ed0"
      },
      "source": [
        "data.head()"
      ],
      "execution_count": 82,
      "outputs": [
        {
          "output_type": "execute_result",
          "data": {
            "text/html": [
              "<div>\n",
              "<style scoped>\n",
              "    .dataframe tbody tr th:only-of-type {\n",
              "        vertical-align: middle;\n",
              "    }\n",
              "\n",
              "    .dataframe tbody tr th {\n",
              "        vertical-align: top;\n",
              "    }\n",
              "\n",
              "    .dataframe thead th {\n",
              "        text-align: right;\n",
              "    }\n",
              "</style>\n",
              "<table border=\"1\" class=\"dataframe\">\n",
              "  <thead>\n",
              "    <tr style=\"text-align: right;\">\n",
              "      <th></th>\n",
              "      <th>fecha_actualizacion</th>\n",
              "      <th>id_registro</th>\n",
              "      <th>origen</th>\n",
              "      <th>sector</th>\n",
              "      <th>entidad_um</th>\n",
              "      <th>sexo</th>\n",
              "      <th>entidad_nac</th>\n",
              "      <th>entidad_res</th>\n",
              "      <th>municipio_res</th>\n",
              "      <th>tipo_paciente</th>\n",
              "      <th>fecha_ingreso</th>\n",
              "      <th>fecha_sintomas</th>\n",
              "      <th>fecha_def</th>\n",
              "      <th>intubado</th>\n",
              "      <th>neumonia</th>\n",
              "      <th>edad</th>\n",
              "      <th>nacionalidad</th>\n",
              "      <th>embarazo</th>\n",
              "      <th>habla_lengua_indig</th>\n",
              "      <th>diabetes</th>\n",
              "      <th>epoc</th>\n",
              "      <th>asma</th>\n",
              "      <th>inmusupr</th>\n",
              "      <th>hipertension</th>\n",
              "      <th>otra_com</th>\n",
              "      <th>cardiovascular</th>\n",
              "      <th>obesidad</th>\n",
              "      <th>renal_cronica</th>\n",
              "      <th>tabaquismo</th>\n",
              "      <th>otro_caso</th>\n",
              "      <th>resultado</th>\n",
              "      <th>migrante</th>\n",
              "      <th>pais_nacionalidad</th>\n",
              "      <th>pais_origen</th>\n",
              "      <th>uci</th>\n",
              "    </tr>\n",
              "  </thead>\n",
              "  <tbody>\n",
              "    <tr>\n",
              "      <th>0</th>\n",
              "      <td>2020-09-19</td>\n",
              "      <td>13f301</td>\n",
              "      <td>2</td>\n",
              "      <td>3</td>\n",
              "      <td>15</td>\n",
              "      <td>2</td>\n",
              "      <td>9</td>\n",
              "      <td>15</td>\n",
              "      <td>106</td>\n",
              "      <td>2</td>\n",
              "      <td>2020-05-27</td>\n",
              "      <td>2020-05-25</td>\n",
              "      <td>NaT</td>\n",
              "      <td>2</td>\n",
              "      <td>2</td>\n",
              "      <td>54</td>\n",
              "      <td>1</td>\n",
              "      <td>97</td>\n",
              "      <td>2</td>\n",
              "      <td>2</td>\n",
              "      <td>2</td>\n",
              "      <td>2</td>\n",
              "      <td>2</td>\n",
              "      <td>2</td>\n",
              "      <td>2</td>\n",
              "      <td>2</td>\n",
              "      <td>2</td>\n",
              "      <td>2</td>\n",
              "      <td>2</td>\n",
              "      <td>2</td>\n",
              "      <td>1</td>\n",
              "      <td>99</td>\n",
              "      <td>MÃ©xico</td>\n",
              "      <td>99</td>\n",
              "      <td>2</td>\n",
              "    </tr>\n",
              "    <tr>\n",
              "      <th>1</th>\n",
              "      <td>2020-09-19</td>\n",
              "      <td>0e7edf</td>\n",
              "      <td>2</td>\n",
              "      <td>3</td>\n",
              "      <td>27</td>\n",
              "      <td>2</td>\n",
              "      <td>27</td>\n",
              "      <td>27</td>\n",
              "      <td>4</td>\n",
              "      <td>1</td>\n",
              "      <td>2020-06-18</td>\n",
              "      <td>2020-06-08</td>\n",
              "      <td>NaT</td>\n",
              "      <td>97</td>\n",
              "      <td>2</td>\n",
              "      <td>31</td>\n",
              "      <td>1</td>\n",
              "      <td>97</td>\n",
              "      <td>2</td>\n",
              "      <td>2</td>\n",
              "      <td>2</td>\n",
              "      <td>2</td>\n",
              "      <td>2</td>\n",
              "      <td>2</td>\n",
              "      <td>2</td>\n",
              "      <td>2</td>\n",
              "      <td>2</td>\n",
              "      <td>2</td>\n",
              "      <td>1</td>\n",
              "      <td>1</td>\n",
              "      <td>1</td>\n",
              "      <td>99</td>\n",
              "      <td>MÃ©xico</td>\n",
              "      <td>99</td>\n",
              "      <td>97</td>\n",
              "    </tr>\n",
              "    <tr>\n",
              "      <th>2</th>\n",
              "      <td>2020-09-19</td>\n",
              "      <td>10d9be</td>\n",
              "      <td>2</td>\n",
              "      <td>4</td>\n",
              "      <td>2</td>\n",
              "      <td>2</td>\n",
              "      <td>10</td>\n",
              "      <td>2</td>\n",
              "      <td>4</td>\n",
              "      <td>2</td>\n",
              "      <td>2020-04-06</td>\n",
              "      <td>2020-03-28</td>\n",
              "      <td>2020-04-12</td>\n",
              "      <td>1</td>\n",
              "      <td>1</td>\n",
              "      <td>43</td>\n",
              "      <td>1</td>\n",
              "      <td>97</td>\n",
              "      <td>2</td>\n",
              "      <td>2</td>\n",
              "      <td>2</td>\n",
              "      <td>2</td>\n",
              "      <td>2</td>\n",
              "      <td>2</td>\n",
              "      <td>2</td>\n",
              "      <td>2</td>\n",
              "      <td>2</td>\n",
              "      <td>2</td>\n",
              "      <td>2</td>\n",
              "      <td>99</td>\n",
              "      <td>1</td>\n",
              "      <td>99</td>\n",
              "      <td>MÃ©xico</td>\n",
              "      <td>99</td>\n",
              "      <td>2</td>\n",
              "    </tr>\n",
              "    <tr>\n",
              "      <th>3</th>\n",
              "      <td>2020-09-19</td>\n",
              "      <td>11a9b3</td>\n",
              "      <td>2</td>\n",
              "      <td>4</td>\n",
              "      <td>9</td>\n",
              "      <td>2</td>\n",
              "      <td>9</td>\n",
              "      <td>15</td>\n",
              "      <td>58</td>\n",
              "      <td>1</td>\n",
              "      <td>2020-04-20</td>\n",
              "      <td>2020-04-20</td>\n",
              "      <td>NaT</td>\n",
              "      <td>97</td>\n",
              "      <td>2</td>\n",
              "      <td>32</td>\n",
              "      <td>1</td>\n",
              "      <td>97</td>\n",
              "      <td>2</td>\n",
              "      <td>2</td>\n",
              "      <td>2</td>\n",
              "      <td>2</td>\n",
              "      <td>2</td>\n",
              "      <td>1</td>\n",
              "      <td>2</td>\n",
              "      <td>2</td>\n",
              "      <td>2</td>\n",
              "      <td>2</td>\n",
              "      <td>2</td>\n",
              "      <td>1</td>\n",
              "      <td>1</td>\n",
              "      <td>99</td>\n",
              "      <td>MÃ©xico</td>\n",
              "      <td>99</td>\n",
              "      <td>97</td>\n",
              "    </tr>\n",
              "    <tr>\n",
              "      <th>4</th>\n",
              "      <td>2020-09-19</td>\n",
              "      <td>077c96</td>\n",
              "      <td>2</td>\n",
              "      <td>4</td>\n",
              "      <td>9</td>\n",
              "      <td>2</td>\n",
              "      <td>16</td>\n",
              "      <td>9</td>\n",
              "      <td>5</td>\n",
              "      <td>2</td>\n",
              "      <td>2020-04-30</td>\n",
              "      <td>2020-04-30</td>\n",
              "      <td>2020-05-15</td>\n",
              "      <td>1</td>\n",
              "      <td>1</td>\n",
              "      <td>66</td>\n",
              "      <td>1</td>\n",
              "      <td>97</td>\n",
              "      <td>2</td>\n",
              "      <td>2</td>\n",
              "      <td>2</td>\n",
              "      <td>2</td>\n",
              "      <td>2</td>\n",
              "      <td>2</td>\n",
              "      <td>2</td>\n",
              "      <td>2</td>\n",
              "      <td>2</td>\n",
              "      <td>2</td>\n",
              "      <td>2</td>\n",
              "      <td>1</td>\n",
              "      <td>1</td>\n",
              "      <td>99</td>\n",
              "      <td>MÃ©xico</td>\n",
              "      <td>99</td>\n",
              "      <td>1</td>\n",
              "    </tr>\n",
              "  </tbody>\n",
              "</table>\n",
              "</div>"
            ],
            "text/plain": [
              "  fecha_actualizacion id_registro  origen  ...  pais_nacionalidad  pais_origen  uci\n",
              "0          2020-09-19      13f301       2  ...            MÃ©xico           99    2\n",
              "1          2020-09-19      0e7edf       2  ...            MÃ©xico           99   97\n",
              "2          2020-09-19      10d9be       2  ...            MÃ©xico           99    2\n",
              "3          2020-09-19      11a9b3       2  ...            MÃ©xico           99   97\n",
              "4          2020-09-19      077c96       2  ...            MÃ©xico           99    1\n",
              "\n",
              "[5 rows x 35 columns]"
            ]
          },
          "metadata": {
            "tags": []
          },
          "execution_count": 82
        }
      ]
    },
    {
      "cell_type": "code",
      "metadata": {
        "id": "ED1_Dnyt9sgn",
        "colab_type": "code",
        "colab": {}
      },
      "source": [
        "# unimos con el catálogo de ENTIDADES\n",
        "entidades_cols = [col for col in data.columns if \"entidad\" in col and col != 'entidad_res']\n",
        "for col in entidades_cols:\n",
        "    data = (\n",
        "        data.merge(catalogues['de ENTIDADES'], how='left', left_on=col, right_on='clave_entidad').\n",
        "        drop(columns=[col, 'abreviatura', 'clave_entidad']).\n",
        "        rename(columns={'entidad_federativa':col})\n",
        "    )"
      ],
      "execution_count": 88,
      "outputs": []
    },
    {
      "cell_type": "code",
      "metadata": {
        "id": "of4G4xi_9vjx",
        "colab_type": "code",
        "colab": {}
      },
      "source": [
        "# unimos con el catálogo SI_NO\n",
        "sino_cols = ['intubado', 'neumonia', 'embarazo', 'habla_lengua_indig', 'diabetes', 'epoc', 'asma', 'inmusupr',\n",
        "             'hipertension', 'otra_com', 'cardiovascular', 'obesidad', 'renal_cronica', 'tabaquismo', \n",
        "             'otro_caso', 'migrante', 'uci']\n",
        "for col in sino_cols:\n",
        "    data = (\n",
        "        data.merge(catalogues['SI_NO'], how='left', left_on=col, right_on='clave').\n",
        "        drop(columns=[col, 'clave']).\n",
        "        rename(columns={'descripción':col})\n",
        "    )"
      ],
      "execution_count": 89,
      "outputs": []
    },
    {
      "cell_type": "code",
      "metadata": {
        "id": "TnuIgUZM-VdS",
        "colab_type": "code",
        "colab": {}
      },
      "source": [
        "catalogues['RESULTADO'].columns\n",
        "\n",
        "catalogues['RESULTADO'].columns = ['clave', 'descripción']\n",
        "catalogues['RESULTADO'].columns\n",
        "\n",
        "catalogues['RESULTADO'] = catalogues['RESULTADO'].drop(index=0)\n",
        "\n",
        "catalogues['RESULTADO']['clave'] = catalogues['RESULTADO']['clave'].astype(int)\n",
        "\n"
      ],
      "execution_count": 91,
      "outputs": []
    },
    {
      "cell_type": "code",
      "metadata": {
        "id": "q2Og2Jef-_Cr",
        "colab_type": "code",
        "colab": {}
      },
      "source": [
        "# unimos otras columnnas que comparten lógica\n",
        "other_cols = ['origen', 'sector', 'sexo', 'tipo_paciente', 'nacionalidad', 'resultado']\n",
        "for col, cat in zip(other_cols, [x.upper() for x in other_cols]):\n",
        "    data = (\n",
        "        data.merge(catalogues[cat], how='left', left_on=col, right_on='clave').\n",
        "        drop(columns=[col, 'clave']).\n",
        "        rename(columns={'descripción':col})\n",
        "    )"
      ],
      "execution_count": 94,
      "outputs": []
    },
    {
      "cell_type": "code",
      "metadata": {
        "id": "kLk1Vep-AluD",
        "colab_type": "code",
        "colab": {}
      },
      "source": [
        "# creamos algunas variables que podrían ser útiles después\n",
        "data['defuncion'] = ~data.fecha_def.isna()\n",
        "data['mes_def'] = data.fecha_def.dt.month\n",
        "data['año_def'] = data.fecha_def.dt.year\n",
        "data['mes_ingreso'] = data.fecha_ingreso.dt.month\n",
        "data['año_ingreso'] = data.fecha_ingreso.dt.year\n"
      ],
      "execution_count": 108,
      "outputs": []
    },
    {
      "cell_type": "code",
      "metadata": {
        "id": "5q3fQ8-XBgcp",
        "colab_type": "code",
        "colab": {
          "base_uri": "https://localhost:8080/",
          "height": 257
        },
        "outputId": "75af8398-1c2a-4f85-e1d4-6d19c453f6a4"
      },
      "source": [
        "data.head(3)"
      ],
      "execution_count": 115,
      "outputs": [
        {
          "output_type": "execute_result",
          "data": {
            "text/html": [
              "<div>\n",
              "<style scoped>\n",
              "    .dataframe tbody tr th:only-of-type {\n",
              "        vertical-align: middle;\n",
              "    }\n",
              "\n",
              "    .dataframe tbody tr th {\n",
              "        vertical-align: top;\n",
              "    }\n",
              "\n",
              "    .dataframe thead th {\n",
              "        text-align: right;\n",
              "    }\n",
              "</style>\n",
              "<table border=\"1\" class=\"dataframe\">\n",
              "  <thead>\n",
              "    <tr style=\"text-align: right;\">\n",
              "      <th></th>\n",
              "      <th>fecha_actualizacion</th>\n",
              "      <th>id_registro</th>\n",
              "      <th>fecha_ingreso</th>\n",
              "      <th>fecha_sintomas</th>\n",
              "      <th>fecha_def</th>\n",
              "      <th>edad</th>\n",
              "      <th>pais_nacionalidad</th>\n",
              "      <th>pais_origen</th>\n",
              "      <th>entidad_res</th>\n",
              "      <th>municipio_res</th>\n",
              "      <th>entidad_um</th>\n",
              "      <th>entidad_nac</th>\n",
              "      <th>intubado</th>\n",
              "      <th>neumonia</th>\n",
              "      <th>embarazo</th>\n",
              "      <th>habla_lengua_indig</th>\n",
              "      <th>diabetes</th>\n",
              "      <th>epoc</th>\n",
              "      <th>asma</th>\n",
              "      <th>inmusupr</th>\n",
              "      <th>hipertension</th>\n",
              "      <th>otra_com</th>\n",
              "      <th>cardiovascular</th>\n",
              "      <th>obesidad</th>\n",
              "      <th>renal_cronica</th>\n",
              "      <th>tabaquismo</th>\n",
              "      <th>otro_caso</th>\n",
              "      <th>migrante</th>\n",
              "      <th>uci</th>\n",
              "      <th>origen</th>\n",
              "      <th>sector</th>\n",
              "      <th>sexo</th>\n",
              "      <th>tipo_paciente</th>\n",
              "      <th>nacionalidad</th>\n",
              "      <th>resultado</th>\n",
              "      <th>defuncion</th>\n",
              "      <th>mes_def</th>\n",
              "      <th>año_def</th>\n",
              "      <th>mes_ingreso</th>\n",
              "      <th>año_ingreso</th>\n",
              "    </tr>\n",
              "  </thead>\n",
              "  <tbody>\n",
              "    <tr>\n",
              "      <th>0</th>\n",
              "      <td>2020-09-19</td>\n",
              "      <td>13f301</td>\n",
              "      <td>2020-05-27</td>\n",
              "      <td>2020-05-25</td>\n",
              "      <td>NaT</td>\n",
              "      <td>54</td>\n",
              "      <td>MÃ©xico</td>\n",
              "      <td>99</td>\n",
              "      <td>MÉXICO</td>\n",
              "      <td>TOLUCA</td>\n",
              "      <td>MÉXICO</td>\n",
              "      <td>CIUDAD DE MÉXICO</td>\n",
              "      <td>NO</td>\n",
              "      <td>NO</td>\n",
              "      <td>NO APLICA</td>\n",
              "      <td>NO</td>\n",
              "      <td>NO</td>\n",
              "      <td>NO</td>\n",
              "      <td>NO</td>\n",
              "      <td>NO</td>\n",
              "      <td>NO</td>\n",
              "      <td>NO</td>\n",
              "      <td>NO</td>\n",
              "      <td>NO</td>\n",
              "      <td>NO</td>\n",
              "      <td>NO</td>\n",
              "      <td>NO</td>\n",
              "      <td>NO ESPECIFICADO</td>\n",
              "      <td>NO</td>\n",
              "      <td>FUERA DE USMER</td>\n",
              "      <td>ESTATAL</td>\n",
              "      <td>HOMBRE</td>\n",
              "      <td>HOSPITALIZADO</td>\n",
              "      <td>MEXICANA</td>\n",
              "      <td>Positivo SARS-CoV-2</td>\n",
              "      <td>False</td>\n",
              "      <td>NaN</td>\n",
              "      <td>NaN</td>\n",
              "      <td>5</td>\n",
              "      <td>2020</td>\n",
              "    </tr>\n",
              "    <tr>\n",
              "      <th>1</th>\n",
              "      <td>2020-09-19</td>\n",
              "      <td>0e7edf</td>\n",
              "      <td>2020-06-18</td>\n",
              "      <td>2020-06-08</td>\n",
              "      <td>NaT</td>\n",
              "      <td>31</td>\n",
              "      <td>MÃ©xico</td>\n",
              "      <td>99</td>\n",
              "      <td>TABASCO</td>\n",
              "      <td>CENTRO</td>\n",
              "      <td>TABASCO</td>\n",
              "      <td>TABASCO</td>\n",
              "      <td>NO APLICA</td>\n",
              "      <td>NO</td>\n",
              "      <td>NO APLICA</td>\n",
              "      <td>NO</td>\n",
              "      <td>NO</td>\n",
              "      <td>NO</td>\n",
              "      <td>NO</td>\n",
              "      <td>NO</td>\n",
              "      <td>NO</td>\n",
              "      <td>NO</td>\n",
              "      <td>NO</td>\n",
              "      <td>NO</td>\n",
              "      <td>NO</td>\n",
              "      <td>SI</td>\n",
              "      <td>SI</td>\n",
              "      <td>NO ESPECIFICADO</td>\n",
              "      <td>NO APLICA</td>\n",
              "      <td>FUERA DE USMER</td>\n",
              "      <td>ESTATAL</td>\n",
              "      <td>HOMBRE</td>\n",
              "      <td>AMBULATORIO</td>\n",
              "      <td>MEXICANA</td>\n",
              "      <td>Positivo SARS-CoV-2</td>\n",
              "      <td>False</td>\n",
              "      <td>NaN</td>\n",
              "      <td>NaN</td>\n",
              "      <td>6</td>\n",
              "      <td>2020</td>\n",
              "    </tr>\n",
              "    <tr>\n",
              "      <th>2</th>\n",
              "      <td>2020-09-19</td>\n",
              "      <td>10d9be</td>\n",
              "      <td>2020-04-06</td>\n",
              "      <td>2020-03-28</td>\n",
              "      <td>2020-04-12</td>\n",
              "      <td>43</td>\n",
              "      <td>MÃ©xico</td>\n",
              "      <td>99</td>\n",
              "      <td>BAJA CALIFORNIA</td>\n",
              "      <td>TIJUANA</td>\n",
              "      <td>BAJA CALIFORNIA</td>\n",
              "      <td>DURANGO</td>\n",
              "      <td>SI</td>\n",
              "      <td>SI</td>\n",
              "      <td>NO APLICA</td>\n",
              "      <td>NO</td>\n",
              "      <td>NO</td>\n",
              "      <td>NO</td>\n",
              "      <td>NO</td>\n",
              "      <td>NO</td>\n",
              "      <td>NO</td>\n",
              "      <td>NO</td>\n",
              "      <td>NO</td>\n",
              "      <td>NO</td>\n",
              "      <td>NO</td>\n",
              "      <td>NO</td>\n",
              "      <td>NO ESPECIFICADO</td>\n",
              "      <td>NO ESPECIFICADO</td>\n",
              "      <td>NO</td>\n",
              "      <td>FUERA DE USMER</td>\n",
              "      <td>IMSS</td>\n",
              "      <td>HOMBRE</td>\n",
              "      <td>HOSPITALIZADO</td>\n",
              "      <td>MEXICANA</td>\n",
              "      <td>Positivo SARS-CoV-2</td>\n",
              "      <td>True</td>\n",
              "      <td>4.0</td>\n",
              "      <td>2020.0</td>\n",
              "      <td>4</td>\n",
              "      <td>2020</td>\n",
              "    </tr>\n",
              "  </tbody>\n",
              "</table>\n",
              "</div>"
            ],
            "text/plain": [
              "  fecha_actualizacion id_registro  ... mes_ingreso año_ingreso\n",
              "0          2020-09-19      13f301  ...           5        2020\n",
              "1          2020-09-19      0e7edf  ...           6        2020\n",
              "2          2020-09-19      10d9be  ...           4        2020\n",
              "\n",
              "[3 rows x 40 columns]"
            ]
          },
          "metadata": {
            "tags": []
          },
          "execution_count": 115
        }
      ]
    },
    {
      "cell_type": "code",
      "metadata": {
        "id": "qyJZCoJAFuLx",
        "colab_type": "code",
        "colab": {
          "base_uri": "https://localhost:8080/",
          "height": 103
        },
        "outputId": "5dc5ebca-b9c2-49ac-91e0-d04b8969753f"
      },
      "source": [
        "\n",
        "#Genera error. Solo muestra los encabezados sin datos.\n",
        "data.query('hipertension == \"SI\" & defuncion == \"True\"').head()\n",
        "\n"
      ],
      "execution_count": 118,
      "outputs": [
        {
          "output_type": "stream",
          "text": [
            "/usr/local/lib/python3.6/dist-packages/numpy/lib/arraysetops.py:569: FutureWarning: elementwise comparison failed; returning scalar instead, but in the future will perform elementwise comparison\n",
            "  mask |= (ar1 == a)\n"
          ],
          "name": "stderr"
        },
        {
          "output_type": "execute_result",
          "data": {
            "text/html": [
              "<div>\n",
              "<style scoped>\n",
              "    .dataframe tbody tr th:only-of-type {\n",
              "        vertical-align: middle;\n",
              "    }\n",
              "\n",
              "    .dataframe tbody tr th {\n",
              "        vertical-align: top;\n",
              "    }\n",
              "\n",
              "    .dataframe thead th {\n",
              "        text-align: right;\n",
              "    }\n",
              "</style>\n",
              "<table border=\"1\" class=\"dataframe\">\n",
              "  <thead>\n",
              "    <tr style=\"text-align: right;\">\n",
              "      <th></th>\n",
              "      <th>fecha_actualizacion</th>\n",
              "      <th>id_registro</th>\n",
              "      <th>fecha_ingreso</th>\n",
              "      <th>fecha_sintomas</th>\n",
              "      <th>fecha_def</th>\n",
              "      <th>edad</th>\n",
              "      <th>pais_nacionalidad</th>\n",
              "      <th>pais_origen</th>\n",
              "      <th>entidad_res</th>\n",
              "      <th>municipio_res</th>\n",
              "      <th>entidad_um</th>\n",
              "      <th>entidad_nac</th>\n",
              "      <th>intubado</th>\n",
              "      <th>neumonia</th>\n",
              "      <th>embarazo</th>\n",
              "      <th>habla_lengua_indig</th>\n",
              "      <th>diabetes</th>\n",
              "      <th>epoc</th>\n",
              "      <th>asma</th>\n",
              "      <th>inmusupr</th>\n",
              "      <th>hipertension</th>\n",
              "      <th>otra_com</th>\n",
              "      <th>cardiovascular</th>\n",
              "      <th>obesidad</th>\n",
              "      <th>renal_cronica</th>\n",
              "      <th>tabaquismo</th>\n",
              "      <th>otro_caso</th>\n",
              "      <th>migrante</th>\n",
              "      <th>uci</th>\n",
              "      <th>origen</th>\n",
              "      <th>sector</th>\n",
              "      <th>sexo</th>\n",
              "      <th>tipo_paciente</th>\n",
              "      <th>nacionalidad</th>\n",
              "      <th>resultado</th>\n",
              "      <th>defuncion</th>\n",
              "      <th>mes_def</th>\n",
              "      <th>año_def</th>\n",
              "      <th>mes_ingreso</th>\n",
              "      <th>año_ingreso</th>\n",
              "    </tr>\n",
              "  </thead>\n",
              "  <tbody>\n",
              "  </tbody>\n",
              "</table>\n",
              "</div>"
            ],
            "text/plain": [
              "Empty DataFrame\n",
              "Columns: [fecha_actualizacion, id_registro, fecha_ingreso, fecha_sintomas, fecha_def, edad, pais_nacionalidad, pais_origen, entidad_res, municipio_res, entidad_um, entidad_nac, intubado, neumonia, embarazo, habla_lengua_indig, diabetes, epoc, asma, inmusupr, hipertension, otra_com, cardiovascular, obesidad, renal_cronica, tabaquismo, otro_caso, migrante, uci, origen, sector, sexo, tipo_paciente, nacionalidad, resultado, defuncion, mes_def, año_def, mes_ingreso, año_ingreso]\n",
              "Index: []"
            ]
          },
          "metadata": {
            "tags": []
          },
          "execution_count": 118
        }
      ]
    },
    {
      "cell_type": "code",
      "metadata": {
        "id": "6N2La_ZRHaZO",
        "colab_type": "code",
        "colab": {
          "base_uri": "https://localhost:8080/",
          "height": 67
        },
        "outputId": "375f73bb-2b60-470a-b777-12256d25526d"
      },
      "source": [
        "\n",
        "#Genera error. Solo muestra los encabezados sin datos. Hay un error en el registro de hipertension en mi tabla y data set.\n",
        "data[data.hipertension == 'SI'].head(2)"
      ],
      "execution_count": 136,
      "outputs": [
        {
          "output_type": "execute_result",
          "data": {
            "text/html": [
              "<div>\n",
              "<style scoped>\n",
              "    .dataframe tbody tr th:only-of-type {\n",
              "        vertical-align: middle;\n",
              "    }\n",
              "\n",
              "    .dataframe tbody tr th {\n",
              "        vertical-align: top;\n",
              "    }\n",
              "\n",
              "    .dataframe thead th {\n",
              "        text-align: right;\n",
              "    }\n",
              "</style>\n",
              "<table border=\"1\" class=\"dataframe\">\n",
              "  <thead>\n",
              "    <tr style=\"text-align: right;\">\n",
              "      <th></th>\n",
              "      <th>fecha_actualizacion</th>\n",
              "      <th>id_registro</th>\n",
              "      <th>fecha_ingreso</th>\n",
              "      <th>fecha_sintomas</th>\n",
              "      <th>fecha_def</th>\n",
              "      <th>edad</th>\n",
              "      <th>pais_nacionalidad</th>\n",
              "      <th>pais_origen</th>\n",
              "      <th>entidad_res</th>\n",
              "      <th>municipio_res</th>\n",
              "      <th>entidad_um</th>\n",
              "      <th>entidad_nac</th>\n",
              "      <th>intubado</th>\n",
              "      <th>neumonia</th>\n",
              "      <th>embarazo</th>\n",
              "      <th>habla_lengua_indig</th>\n",
              "      <th>diabetes</th>\n",
              "      <th>epoc</th>\n",
              "      <th>asma</th>\n",
              "      <th>inmusupr</th>\n",
              "      <th>hipertension</th>\n",
              "      <th>otra_com</th>\n",
              "      <th>cardiovascular</th>\n",
              "      <th>obesidad</th>\n",
              "      <th>renal_cronica</th>\n",
              "      <th>tabaquismo</th>\n",
              "      <th>otro_caso</th>\n",
              "      <th>migrante</th>\n",
              "      <th>uci</th>\n",
              "      <th>origen</th>\n",
              "      <th>sector</th>\n",
              "      <th>sexo</th>\n",
              "      <th>tipo_paciente</th>\n",
              "      <th>nacionalidad</th>\n",
              "      <th>resultado</th>\n",
              "      <th>defuncion</th>\n",
              "      <th>mes_def</th>\n",
              "      <th>año_def</th>\n",
              "      <th>mes_ingreso</th>\n",
              "      <th>año_ingreso</th>\n",
              "    </tr>\n",
              "  </thead>\n",
              "  <tbody>\n",
              "  </tbody>\n",
              "</table>\n",
              "</div>"
            ],
            "text/plain": [
              "Empty DataFrame\n",
              "Columns: [fecha_actualizacion, id_registro, fecha_ingreso, fecha_sintomas, fecha_def, edad, pais_nacionalidad, pais_origen, entidad_res, municipio_res, entidad_um, entidad_nac, intubado, neumonia, embarazo, habla_lengua_indig, diabetes, epoc, asma, inmusupr, hipertension, otra_com, cardiovascular, obesidad, renal_cronica, tabaquismo, otro_caso, migrante, uci, origen, sector, sexo, tipo_paciente, nacionalidad, resultado, defuncion, mes_def, año_def, mes_ingreso, año_ingreso]\n",
              "Index: []"
            ]
          },
          "metadata": {
            "tags": []
          },
          "execution_count": 136
        }
      ]
    },
    {
      "cell_type": "code",
      "metadata": {
        "id": "RjOWxYkTKX3s",
        "colab_type": "code",
        "colab": {
          "base_uri": "https://localhost:8080/",
          "height": 194
        },
        "outputId": "22cf03b1-7f3b-45d5-ab26-706f35824869"
      },
      "source": [
        "data[data.defuncion].mes_def.value_counts().sort_index()"
      ],
      "execution_count": 137,
      "outputs": [
        {
          "output_type": "execute_result",
          "data": {
            "text/plain": [
              "1.0        6\n",
              "2.0       12\n",
              "3.0      232\n",
              "4.0     5300\n",
              "5.0    16113\n",
              "6.0    21546\n",
              "7.0    24055\n",
              "8.0    19058\n",
              "9.0     7298\n",
              "Name: mes_def, dtype: int64"
            ]
          },
          "metadata": {
            "tags": []
          },
          "execution_count": 137
        }
      ]
    },
    {
      "cell_type": "code",
      "metadata": {
        "id": "wOL4VkUvM7PH",
        "colab_type": "code",
        "colab": {
          "base_uri": "https://localhost:8080/",
          "height": 194
        },
        "outputId": "1309e948-e50c-4ee9-ef67-227fa7c50a67"
      },
      "source": [
        "data[data.tipo_paciente == \"HOSPITALIZADO\"].mes_def.value_counts().sort_index()"
      ],
      "execution_count": 145,
      "outputs": [
        {
          "output_type": "execute_result",
          "data": {
            "text/plain": [
              "1.0        6\n",
              "2.0       12\n",
              "3.0      218\n",
              "4.0     4872\n",
              "5.0    14513\n",
              "6.0    19136\n",
              "7.0    21270\n",
              "8.0    17023\n",
              "9.0     6620\n",
              "Name: mes_def, dtype: int64"
            ]
          },
          "metadata": {
            "tags": []
          },
          "execution_count": 145
        }
      ]
    },
    {
      "cell_type": "code",
      "metadata": {
        "id": "uDm8Ypz1YERD",
        "colab_type": "code",
        "colab": {
          "base_uri": "https://localhost:8080/",
          "height": 158
        },
        "outputId": "979fbb8d-b61f-4d94-a94a-4d21eb98fb3e"
      },
      "source": [
        "#Respuesta a la pregunta 1.- ¿Tienen los pacientes con hipertensión un riesgo más alto de defunción? \n",
        "data.groupby('hipertension').defuncion.value_counts(normalize=True)"
      ],
      "execution_count": 151,
      "outputs": [
        {
          "output_type": "execute_result",
          "data": {
            "text/plain": [
              "hipertension  defuncion\n",
              "NO            False        0.961119\n",
              "              True         0.038881\n",
              "SE IGNORA     False        0.876326\n",
              "              True         0.123674\n",
              "SI            False        0.835204\n",
              "              True         0.164796\n",
              "Name: defuncion, dtype: float64"
            ]
          },
          "metadata": {
            "tags": []
          },
          "execution_count": 151
        }
      ]
    },
    {
      "cell_type": "code",
      "metadata": {
        "id": "yxvmUOEZYUmQ",
        "colab_type": "code",
        "colab": {
          "base_uri": "https://localhost:8080/",
          "height": 158
        },
        "outputId": "67aefc87-3cec-48cd-be2b-af0e2cbd5119"
      },
      "source": [
        "data.groupby('diabetes').defuncion.value_counts(normalize=True)"
      ],
      "execution_count": 152,
      "outputs": [
        {
          "output_type": "execute_result",
          "data": {
            "text/plain": [
              "diabetes   defuncion\n",
              "NO         False        0.958535\n",
              "           True         0.041465\n",
              "SE IGNORA  False        0.877358\n",
              "           True         0.122642\n",
              "SI         False        0.813853\n",
              "           True         0.186147\n",
              "Name: defuncion, dtype: float64"
            ]
          },
          "metadata": {
            "tags": []
          },
          "execution_count": 152
        }
      ]
    },
    {
      "cell_type": "code",
      "metadata": {
        "id": "9BpnoI-MYU9r",
        "colab_type": "code",
        "colab": {
          "base_uri": "https://localhost:8080/",
          "height": 158
        },
        "outputId": "61e2d89f-5a51-4f8f-813e-4fc1507739dc"
      },
      "source": [
        "data.groupby('epoc').defuncion.value_counts(normalize=True)"
      ],
      "execution_count": 153,
      "outputs": [
        {
          "output_type": "execute_result",
          "data": {
            "text/plain": [
              "epoc       defuncion\n",
              "NO         False        0.943377\n",
              "           True         0.056623\n",
              "SE IGNORA  False        0.869135\n",
              "           True         0.130865\n",
              "SI         False        0.758276\n",
              "           True         0.241724\n",
              "Name: defuncion, dtype: float64"
            ]
          },
          "metadata": {
            "tags": []
          },
          "execution_count": 153
        }
      ]
    },
    {
      "cell_type": "code",
      "metadata": {
        "id": "o37AbTk5Yxxe",
        "colab_type": "code",
        "colab": {
          "base_uri": "https://localhost:8080/",
          "height": 158
        },
        "outputId": "61b4c776-d89c-4d6d-9d16-8039c660af91"
      },
      "source": [
        "data.groupby('asma').defuncion.value_counts(normalize=True)"
      ],
      "execution_count": 154,
      "outputs": [
        {
          "output_type": "execute_result",
          "data": {
            "text/plain": [
              "asma       defuncion\n",
              "NO         False        0.940440\n",
              "           True         0.059560\n",
              "SE IGNORA  False        0.871341\n",
              "           True         0.128659\n",
              "SI         False        0.958195\n",
              "           True         0.041805\n",
              "Name: defuncion, dtype: float64"
            ]
          },
          "metadata": {
            "tags": []
          },
          "execution_count": 154
        }
      ]
    },
    {
      "cell_type": "code",
      "metadata": {
        "id": "es2acPE6Y02f",
        "colab_type": "code",
        "colab": {
          "base_uri": "https://localhost:8080/",
          "height": 158
        },
        "outputId": "d4eaf1cf-1dba-46d2-c44a-2cd2f6a9e61d"
      },
      "source": [
        "data.groupby('inmusupr').defuncion.value_counts(normalize=True)"
      ],
      "execution_count": 155,
      "outputs": [
        {
          "output_type": "execute_result",
          "data": {
            "text/plain": [
              "inmusupr   defuncion\n",
              "NO         False        0.942115\n",
              "           True         0.057885\n",
              "SE IGNORA  False        0.869978\n",
              "           True         0.130022\n",
              "SI         False        0.849185\n",
              "           True         0.150815\n",
              "Name: defuncion, dtype: float64"
            ]
          },
          "metadata": {
            "tags": []
          },
          "execution_count": 155
        }
      ]
    },
    {
      "cell_type": "code",
      "metadata": {
        "id": "xxXZRy3ZY40K",
        "colab_type": "code",
        "colab": {
          "base_uri": "https://localhost:8080/",
          "height": 158
        },
        "outputId": "66a42327-db8f-4574-c572-aac663e61d97"
      },
      "source": [
        "data.groupby('otra_com').defuncion.value_counts(normalize=True)"
      ],
      "execution_count": 156,
      "outputs": [
        {
          "output_type": "execute_result",
          "data": {
            "text/plain": [
              "otra_com   defuncion\n",
              "NO         False        0.943440\n",
              "           True         0.056560\n",
              "SE IGNORA  False        0.857312\n",
              "           True         0.142688\n",
              "SI         False        0.847849\n",
              "           True         0.152151\n",
              "Name: defuncion, dtype: float64"
            ]
          },
          "metadata": {
            "tags": []
          },
          "execution_count": 156
        }
      ]
    },
    {
      "cell_type": "code",
      "metadata": {
        "id": "jPN01ec6ZBQ-",
        "colab_type": "code",
        "colab": {
          "base_uri": "https://localhost:8080/",
          "height": 158
        },
        "outputId": "1a7f3925-a5b2-4c79-a37c-92d1bbf1a709"
      },
      "source": [
        "data.groupby('cardiovascular').defuncion.value_counts(normalize=True)"
      ],
      "execution_count": 157,
      "outputs": [
        {
          "output_type": "execute_result",
          "data": {
            "text/plain": [
              "cardiovascular  defuncion\n",
              "NO              False        0.943408\n",
              "                True         0.056592\n",
              "SE IGNORA       False        0.865398\n",
              "                True         0.134602\n",
              "SI              False        0.816374\n",
              "                True         0.183626\n",
              "Name: defuncion, dtype: float64"
            ]
          },
          "metadata": {
            "tags": []
          },
          "execution_count": 157
        }
      ]
    },
    {
      "cell_type": "code",
      "metadata": {
        "id": "1dZ9CoA9ZFeH",
        "colab_type": "code",
        "colab": {
          "base_uri": "https://localhost:8080/",
          "height": 158
        },
        "outputId": "9b7d949f-f07e-4eea-f100-483cf11c4a1a"
      },
      "source": [
        "data.groupby('obesidad').defuncion.value_counts(normalize=True)"
      ],
      "execution_count": 158,
      "outputs": [
        {
          "output_type": "execute_result",
          "data": {
            "text/plain": [
              "obesidad   defuncion\n",
              "NO         False        0.946390\n",
              "           True         0.053610\n",
              "SE IGNORA  False        0.875089\n",
              "           True         0.124911\n",
              "SI         False        0.911034\n",
              "           True         0.088966\n",
              "Name: defuncion, dtype: float64"
            ]
          },
          "metadata": {
            "tags": []
          },
          "execution_count": 158
        }
      ]
    },
    {
      "cell_type": "code",
      "metadata": {
        "id": "xkl7WKirZLtE",
        "colab_type": "code",
        "colab": {
          "base_uri": "https://localhost:8080/",
          "height": 158
        },
        "outputId": "0e2802e7-5126-46fe-819c-50f6a01c6a61"
      },
      "source": [
        "data.groupby('tabaquismo').defuncion.value_counts(normalize=True)"
      ],
      "execution_count": 159,
      "outputs": [
        {
          "output_type": "execute_result",
          "data": {
            "text/plain": [
              "tabaquismo  defuncion\n",
              "NO          False        0.941129\n",
              "            True         0.058871\n",
              "SE IGNORA   False        0.872614\n",
              "            True         0.127386\n",
              "SI          False        0.939020\n",
              "            True         0.060980\n",
              "Name: defuncion, dtype: float64"
            ]
          },
          "metadata": {
            "tags": []
          },
          "execution_count": 159
        }
      ]
    },
    {
      "cell_type": "code",
      "metadata": {
        "id": "nNiAVBa2ZegS",
        "colab_type": "code",
        "colab": {
          "base_uri": "https://localhost:8080/",
          "height": 158
        },
        "outputId": "18588ddb-75f1-4b45-b7dd-0bf2cfccb144"
      },
      "source": [
        "data.groupby('otro_caso').defuncion.value_counts(normalize=True)"
      ],
      "execution_count": 160,
      "outputs": [
        {
          "output_type": "execute_result",
          "data": {
            "text/plain": [
              "otro_caso        defuncion\n",
              "NO               False        0.933622\n",
              "                 True         0.066378\n",
              "NO ESPECIFICADO  False        0.807801\n",
              "                 True         0.192199\n",
              "SI               False        0.983464\n",
              "                 True         0.016536\n",
              "Name: defuncion, dtype: float64"
            ]
          },
          "metadata": {
            "tags": []
          },
          "execution_count": 160
        }
      ]
    },
    {
      "cell_type": "code",
      "metadata": {
        "id": "7rdCxBlgeDqs",
        "colab_type": "code",
        "colab": {
          "base_uri": "https://localhost:8080/",
          "height": 603
        },
        "outputId": "4c34e4ac-1f97-4773-9ce3-7ab17250573d"
      },
      "source": [
        "#Respuesta a la pregunta 2.- ¿Cuántos casos confirmados se tienen por Estado?\n",
        "\n",
        "data[data.resultado == \"Positivo SARS-CoV-2\"].entidad_res.value_counts().sort_index()\n",
        "\n"
      ],
      "execution_count": 162,
      "outputs": [
        {
          "output_type": "execute_result",
          "data": {
            "text/plain": [
              "AGUASCALIENTES                       6581\n",
              "BAJA CALIFORNIA                     18501\n",
              "BAJA CALIFORNIA SUR                  9374\n",
              "CAMPECHE                             5851\n",
              "CHIAPAS                              6427\n",
              "CHIHUAHUA                            9464\n",
              "CIUDAD DE MÉXICO                   116943\n",
              "COAHUILA DE ZARAGOZA                24766\n",
              "COLIMA                               4380\n",
              "DURANGO                              8098\n",
              "GUANAJUATO                          38340\n",
              "GUERRERO                            17335\n",
              "HIDALGO                             11930\n",
              "JALISCO                             24400\n",
              "MICHOACÁN DE OCAMPO                 18684\n",
              "MORELOS                              5699\n",
              "MÉXICO                              76784\n",
              "NAYARIT                              5642\n",
              "NUEVO LEÓN                          35910\n",
              "OAXACA                              15374\n",
              "PUEBLA                              29938\n",
              "QUERÉTARO                            8152\n",
              "QUINTANA ROO                        11290\n",
              "SAN LUIS POTOSÍ                     21524\n",
              "SINALOA                             17772\n",
              "SONORA                              23749\n",
              "TABASCO                             30753\n",
              "TAMAULIPAS                          27645\n",
              "TLAXCALA                             7165\n",
              "VERACRUZ DE IGNACIO DE LA LLAVE     31680\n",
              "YUCATÁN                             17222\n",
              "ZACATECAS                            6748\n",
              "Name: entidad_res, dtype: int64"
            ]
          },
          "metadata": {
            "tags": []
          },
          "execution_count": 162
        }
      ]
    },
    {
      "cell_type": "code",
      "metadata": {
        "id": "kg0RAVn_OORu",
        "colab_type": "code",
        "colab": {
          "base_uri": "https://localhost:8080/",
          "height": 603
        },
        "outputId": "23e51e4d-4ef7-4c26-b7c8-fc96f202caf7"
      },
      "source": [
        "#Respuesta a la pregunta 3 ¿Cuántas defunciones se tienen por estado?\n",
        "\n",
        "data[data.defuncion].entidad_res.value_counts().sort_index()\n",
        "\n"
      ],
      "execution_count": 146,
      "outputs": [
        {
          "output_type": "execute_result",
          "data": {
            "text/plain": [
              "AGUASCALIENTES                       662\n",
              "BAJA CALIFORNIA                     4167\n",
              "BAJA CALIFORNIA SUR                  559\n",
              "CAMPECHE                             982\n",
              "CHIAPAS                             1233\n",
              "CHIHUAHUA                           2116\n",
              "CIUDAD DE MÉXICO                   12397\n",
              "COAHUILA DE ZARAGOZA                2338\n",
              "COLIMA                               637\n",
              "DURANGO                              759\n",
              "GUANAJUATO                          3349\n",
              "GUERRERO                            2374\n",
              "HIDALGO                             2180\n",
              "JALISCO                             4120\n",
              "MICHOACÁN DE OCAMPO                 2040\n",
              "MORELOS                             1282\n",
              "MÉXICO                             14128\n",
              "NAYARIT                              867\n",
              "NUEVO LEÓN                          3792\n",
              "OAXACA                              1666\n",
              "PUEBLA                              4765\n",
              "QUERÉTARO                           1056\n",
              "QUINTANA ROO                        2002\n",
              "SAN LUIS POTOSÍ                     1924\n",
              "SINALOA                             3840\n",
              "SONORA                              3323\n",
              "TABASCO                             2989\n",
              "TAMAULIPAS                          2992\n",
              "TLAXCALA                            1362\n",
              "VERACRUZ DE IGNACIO DE LA LLAVE     5002\n",
              "YUCATÁN                             1900\n",
              "ZACATECAS                            817\n",
              "Name: entidad_res, dtype: int64"
            ]
          },
          "metadata": {
            "tags": []
          },
          "execution_count": 146
        }
      ]
    },
    {
      "cell_type": "code",
      "metadata": {
        "id": "T7ge5_waSD4S",
        "colab_type": "code",
        "colab": {
          "base_uri": "https://localhost:8080/",
          "height": 568
        },
        "outputId": "405c50ef-f561-4273-dfbe-489cbea471b0"
      },
      "source": [
        "#Respuesta a la pregunta 4.- ¿Cuántos fallecimientos han ocurrido en el Estado con mayor número de casos confirmados?\n",
        "\n",
        "data[data.defuncion].entidad_res.value_counts().sort_index()\n",
        "\n",
        "estado_mas_defunciones = data[data.entidad].entidad_res.max()  \n",
        "\n",
        "data[data.entidad_res & (data.defuncion == estado_mas_defunciones)]"
      ],
      "execution_count": 150,
      "outputs": [
        {
          "output_type": "stream",
          "text": [
            "/usr/local/lib/python3.6/dist-packages/pandas/core/ops/array_ops.py:253: FutureWarning: elementwise comparison failed; returning scalar instead, but in the future will perform elementwise comparison\n",
            "  res_values = method(rvalues)\n"
          ],
          "name": "stderr"
        },
        {
          "output_type": "error",
          "ename": "TypeError",
          "evalue": "ignored",
          "traceback": [
            "\u001b[0;31m---------------------------------------------------------------------------\u001b[0m",
            "\u001b[0;31mTypeError\u001b[0m                                 Traceback (most recent call last)",
            "\u001b[0;32m/usr/local/lib/python3.6/dist-packages/pandas/core/ops/array_ops.py\u001b[0m in \u001b[0;36mna_logical_op\u001b[0;34m(x, y, op)\u001b[0m\n\u001b[1;32m    273\u001b[0m         \u001b[0;31m#  (xint or xbool) and (yint or bool)\u001b[0m\u001b[0;34m\u001b[0m\u001b[0;34m\u001b[0m\u001b[0;34m\u001b[0m\u001b[0m\n\u001b[0;32m--> 274\u001b[0;31m         \u001b[0mresult\u001b[0m \u001b[0;34m=\u001b[0m \u001b[0mop\u001b[0m\u001b[0;34m(\u001b[0m\u001b[0mx\u001b[0m\u001b[0;34m,\u001b[0m \u001b[0my\u001b[0m\u001b[0;34m)\u001b[0m\u001b[0;34m\u001b[0m\u001b[0;34m\u001b[0m\u001b[0m\n\u001b[0m\u001b[1;32m    275\u001b[0m     \u001b[0;32mexcept\u001b[0m \u001b[0mTypeError\u001b[0m\u001b[0;34m:\u001b[0m\u001b[0;34m\u001b[0m\u001b[0;34m\u001b[0m\u001b[0m\n",
            "\u001b[0;31mTypeError\u001b[0m: unsupported operand type(s) for &: 'str' and 'bool'",
            "\nDuring handling of the above exception, another exception occurred:\n",
            "\u001b[0;31mTypeError\u001b[0m                                 Traceback (most recent call last)",
            "\u001b[0;32m<ipython-input-150-a3c53a133777>\u001b[0m in \u001b[0;36m<module>\u001b[0;34m()\u001b[0m\n\u001b[1;32m      3\u001b[0m \u001b[0mestado_mas_defunciones\u001b[0m \u001b[0;34m=\u001b[0m \u001b[0mdata\u001b[0m\u001b[0;34m[\u001b[0m\u001b[0mdata\u001b[0m\u001b[0;34m.\u001b[0m\u001b[0mdefuncion\u001b[0m\u001b[0;34m]\u001b[0m\u001b[0;34m.\u001b[0m\u001b[0mentidad_res\u001b[0m\u001b[0;34m.\u001b[0m\u001b[0mmax\u001b[0m\u001b[0;34m(\u001b[0m\u001b[0;34m)\u001b[0m\u001b[0;34m\u001b[0m\u001b[0;34m\u001b[0m\u001b[0m\n\u001b[1;32m      4\u001b[0m \u001b[0;34m\u001b[0m\u001b[0m\n\u001b[0;32m----> 5\u001b[0;31m \u001b[0mdata\u001b[0m\u001b[0;34m[\u001b[0m\u001b[0mdata\u001b[0m\u001b[0;34m.\u001b[0m\u001b[0mentidad_res\u001b[0m \u001b[0;34m&\u001b[0m \u001b[0;34m(\u001b[0m\u001b[0mdata\u001b[0m\u001b[0;34m.\u001b[0m\u001b[0mdefuncion\u001b[0m \u001b[0;34m==\u001b[0m \u001b[0mestado_mas_defunciones\u001b[0m\u001b[0;34m)\u001b[0m\u001b[0;34m]\u001b[0m\u001b[0;34m\u001b[0m\u001b[0;34m\u001b[0m\u001b[0m\n\u001b[0m",
            "\u001b[0;32m/usr/local/lib/python3.6/dist-packages/pandas/core/ops/common.py\u001b[0m in \u001b[0;36mnew_method\u001b[0;34m(self, other)\u001b[0m\n\u001b[1;32m     62\u001b[0m         \u001b[0mother\u001b[0m \u001b[0;34m=\u001b[0m \u001b[0mitem_from_zerodim\u001b[0m\u001b[0;34m(\u001b[0m\u001b[0mother\u001b[0m\u001b[0;34m)\u001b[0m\u001b[0;34m\u001b[0m\u001b[0;34m\u001b[0m\u001b[0m\n\u001b[1;32m     63\u001b[0m \u001b[0;34m\u001b[0m\u001b[0m\n\u001b[0;32m---> 64\u001b[0;31m         \u001b[0;32mreturn\u001b[0m \u001b[0mmethod\u001b[0m\u001b[0;34m(\u001b[0m\u001b[0mself\u001b[0m\u001b[0;34m,\u001b[0m \u001b[0mother\u001b[0m\u001b[0;34m)\u001b[0m\u001b[0;34m\u001b[0m\u001b[0;34m\u001b[0m\u001b[0m\n\u001b[0m\u001b[1;32m     65\u001b[0m \u001b[0;34m\u001b[0m\u001b[0m\n\u001b[1;32m     66\u001b[0m     \u001b[0;32mreturn\u001b[0m \u001b[0mnew_method\u001b[0m\u001b[0;34m\u001b[0m\u001b[0;34m\u001b[0m\u001b[0m\n",
            "\u001b[0;32m/usr/local/lib/python3.6/dist-packages/pandas/core/ops/__init__.py\u001b[0m in \u001b[0;36mwrapper\u001b[0;34m(self, other)\u001b[0m\n\u001b[1;32m    550\u001b[0m         \u001b[0mrvalues\u001b[0m \u001b[0;34m=\u001b[0m \u001b[0mextract_array\u001b[0m\u001b[0;34m(\u001b[0m\u001b[0mother\u001b[0m\u001b[0;34m,\u001b[0m \u001b[0mextract_numpy\u001b[0m\u001b[0;34m=\u001b[0m\u001b[0;32mTrue\u001b[0m\u001b[0;34m)\u001b[0m\u001b[0;34m\u001b[0m\u001b[0;34m\u001b[0m\u001b[0m\n\u001b[1;32m    551\u001b[0m \u001b[0;34m\u001b[0m\u001b[0m\n\u001b[0;32m--> 552\u001b[0;31m         \u001b[0mres_values\u001b[0m \u001b[0;34m=\u001b[0m \u001b[0mlogical_op\u001b[0m\u001b[0;34m(\u001b[0m\u001b[0mlvalues\u001b[0m\u001b[0;34m,\u001b[0m \u001b[0mrvalues\u001b[0m\u001b[0;34m,\u001b[0m \u001b[0mop\u001b[0m\u001b[0;34m)\u001b[0m\u001b[0;34m\u001b[0m\u001b[0;34m\u001b[0m\u001b[0m\n\u001b[0m\u001b[1;32m    553\u001b[0m         \u001b[0;32mreturn\u001b[0m \u001b[0m_construct_result\u001b[0m\u001b[0;34m(\u001b[0m\u001b[0mself\u001b[0m\u001b[0;34m,\u001b[0m \u001b[0mres_values\u001b[0m\u001b[0;34m,\u001b[0m \u001b[0mindex\u001b[0m\u001b[0;34m=\u001b[0m\u001b[0mself\u001b[0m\u001b[0;34m.\u001b[0m\u001b[0mindex\u001b[0m\u001b[0;34m,\u001b[0m \u001b[0mname\u001b[0m\u001b[0;34m=\u001b[0m\u001b[0mres_name\u001b[0m\u001b[0;34m)\u001b[0m\u001b[0;34m\u001b[0m\u001b[0;34m\u001b[0m\u001b[0m\n\u001b[1;32m    554\u001b[0m \u001b[0;34m\u001b[0m\u001b[0m\n",
            "\u001b[0;32m/usr/local/lib/python3.6/dist-packages/pandas/core/ops/array_ops.py\u001b[0m in \u001b[0;36mlogical_op\u001b[0;34m(left, right, op)\u001b[0m\n\u001b[1;32m    364\u001b[0m         \u001b[0mfiller\u001b[0m \u001b[0;34m=\u001b[0m \u001b[0mfill_int\u001b[0m \u001b[0;32mif\u001b[0m \u001b[0mis_self_int_dtype\u001b[0m \u001b[0;32mand\u001b[0m \u001b[0mis_other_int_dtype\u001b[0m \u001b[0;32melse\u001b[0m \u001b[0mfill_bool\u001b[0m\u001b[0;34m\u001b[0m\u001b[0;34m\u001b[0m\u001b[0m\n\u001b[1;32m    365\u001b[0m \u001b[0;34m\u001b[0m\u001b[0m\n\u001b[0;32m--> 366\u001b[0;31m         \u001b[0mres_values\u001b[0m \u001b[0;34m=\u001b[0m \u001b[0mna_logical_op\u001b[0m\u001b[0;34m(\u001b[0m\u001b[0mlvalues\u001b[0m\u001b[0;34m,\u001b[0m \u001b[0mrvalues\u001b[0m\u001b[0;34m,\u001b[0m \u001b[0mop\u001b[0m\u001b[0;34m)\u001b[0m\u001b[0;34m\u001b[0m\u001b[0;34m\u001b[0m\u001b[0m\n\u001b[0m\u001b[1;32m    367\u001b[0m         \u001b[0mres_values\u001b[0m \u001b[0;34m=\u001b[0m \u001b[0mfiller\u001b[0m\u001b[0;34m(\u001b[0m\u001b[0mres_values\u001b[0m\u001b[0;34m)\u001b[0m  \u001b[0;31m# type: ignore\u001b[0m\u001b[0;34m\u001b[0m\u001b[0;34m\u001b[0m\u001b[0m\n\u001b[1;32m    368\u001b[0m \u001b[0;34m\u001b[0m\u001b[0m\n",
            "\u001b[0;32m/usr/local/lib/python3.6/dist-packages/pandas/core/ops/array_ops.py\u001b[0m in \u001b[0;36mna_logical_op\u001b[0;34m(x, y, op)\u001b[0m\n\u001b[1;32m    279\u001b[0m             \u001b[0mx\u001b[0m \u001b[0;34m=\u001b[0m \u001b[0mensure_object\u001b[0m\u001b[0;34m(\u001b[0m\u001b[0mx\u001b[0m\u001b[0;34m)\u001b[0m\u001b[0;34m\u001b[0m\u001b[0;34m\u001b[0m\u001b[0m\n\u001b[1;32m    280\u001b[0m             \u001b[0my\u001b[0m \u001b[0;34m=\u001b[0m \u001b[0mensure_object\u001b[0m\u001b[0;34m(\u001b[0m\u001b[0my\u001b[0m\u001b[0;34m)\u001b[0m\u001b[0;34m\u001b[0m\u001b[0;34m\u001b[0m\u001b[0m\n\u001b[0;32m--> 281\u001b[0;31m             \u001b[0mresult\u001b[0m \u001b[0;34m=\u001b[0m \u001b[0mlibops\u001b[0m\u001b[0;34m.\u001b[0m\u001b[0mvec_binop\u001b[0m\u001b[0;34m(\u001b[0m\u001b[0mx\u001b[0m\u001b[0;34m,\u001b[0m \u001b[0my\u001b[0m\u001b[0;34m,\u001b[0m \u001b[0mop\u001b[0m\u001b[0;34m)\u001b[0m\u001b[0;34m\u001b[0m\u001b[0;34m\u001b[0m\u001b[0m\n\u001b[0m\u001b[1;32m    282\u001b[0m         \u001b[0;32melse\u001b[0m\u001b[0;34m:\u001b[0m\u001b[0;34m\u001b[0m\u001b[0;34m\u001b[0m\u001b[0m\n\u001b[1;32m    283\u001b[0m             \u001b[0;31m# let null fall thru\u001b[0m\u001b[0;34m\u001b[0m\u001b[0;34m\u001b[0m\u001b[0;34m\u001b[0m\u001b[0m\n",
            "\u001b[0;32mpandas/_libs/ops.pyx\u001b[0m in \u001b[0;36mpandas._libs.ops.vec_binop\u001b[0;34m()\u001b[0m\n",
            "\u001b[0;32mpandas/_libs/ops.pyx\u001b[0m in \u001b[0;36mpandas._libs.ops.vec_binop\u001b[0;34m()\u001b[0m\n",
            "\u001b[0;31mTypeError\u001b[0m: unsupported operand type(s) for &: 'str' and 'bool'"
          ]
        }
      ]
    },
    {
      "cell_type": "code",
      "metadata": {
        "id": "8VRadtW5gjwT",
        "colab_type": "code",
        "colab": {
          "base_uri": "https://localhost:8080/",
          "height": 137
        },
        "outputId": "ed389ef4-57d0-44a5-9984-ae8422cc7dcc"
      },
      "source": [
        "#Respuesta a la pregunta 4.- ¿Cuántos fallecimientos han ocurrido en el Estado con mayor número de casos confirmados?\n",
        "\n",
        "# Entiendo el por que sale el resultado. Estamos utilizando como base los registros de datos en la variable (columna) defunción.\n",
        "# A esta base, la comparamos contra la variable (columna) entidad_res y ejecutamos la función .describe.\n",
        "# Lo que no entiendo es por que no sale el registro más alto y los otros registros no. \n",
        "# ¿Será una cuestión inherente a la forma que está configurada la función?\n",
        "# Todavía no encuentro una función inversa a .describe ó como invertirla.\n",
        "\n",
        "data.groupby('defuncion').entidad_res.describe()"
      ],
      "execution_count": 165,
      "outputs": [
        {
          "output_type": "execute_result",
          "data": {
            "text/html": [
              "<div>\n",
              "<style scoped>\n",
              "    .dataframe tbody tr th:only-of-type {\n",
              "        vertical-align: middle;\n",
              "    }\n",
              "\n",
              "    .dataframe tbody tr th {\n",
              "        vertical-align: top;\n",
              "    }\n",
              "\n",
              "    .dataframe thead th {\n",
              "        text-align: right;\n",
              "    }\n",
              "</style>\n",
              "<table border=\"1\" class=\"dataframe\">\n",
              "  <thead>\n",
              "    <tr style=\"text-align: right;\">\n",
              "      <th></th>\n",
              "      <th>count</th>\n",
              "      <th>unique</th>\n",
              "      <th>top</th>\n",
              "      <th>freq</th>\n",
              "    </tr>\n",
              "    <tr>\n",
              "      <th>defuncion</th>\n",
              "      <th></th>\n",
              "      <th></th>\n",
              "      <th></th>\n",
              "      <th></th>\n",
              "    </tr>\n",
              "  </thead>\n",
              "  <tbody>\n",
              "    <tr>\n",
              "      <th>False</th>\n",
              "      <td>1486757</td>\n",
              "      <td>32</td>\n",
              "      <td>CIUDAD DE MÉXICO</td>\n",
              "      <td>317450</td>\n",
              "    </tr>\n",
              "    <tr>\n",
              "      <th>True</th>\n",
              "      <td>93620</td>\n",
              "      <td>32</td>\n",
              "      <td>MÉXICO</td>\n",
              "      <td>14128</td>\n",
              "    </tr>\n",
              "  </tbody>\n",
              "</table>\n",
              "</div>"
            ],
            "text/plain": [
              "             count unique               top    freq\n",
              "defuncion                                          \n",
              "False      1486757     32  CIUDAD DE MÉXICO  317450\n",
              "True         93620     32            MÉXICO   14128"
            ]
          },
          "metadata": {
            "tags": []
          },
          "execution_count": 165
        }
      ]
    },
    {
      "cell_type": "code",
      "metadata": {
        "id": "cH_id9_XQ0v1",
        "colab_type": "code",
        "colab": {
          "base_uri": "https://localhost:8080/",
          "height": 70
        },
        "outputId": "3e2a2361-1ee0-469f-85a5-2bba57dc873c"
      },
      "source": [
        "#Respuesta a la pregunta 5.- ¿Cuántos fallecimientos han ocurrido en los pacientes Ambulatorios?\n",
        "data[data.defuncion].tipo_paciente.value_counts().sort_index()"
      ],
      "execution_count": 147,
      "outputs": [
        {
          "output_type": "execute_result",
          "data": {
            "text/plain": [
              "AMBULATORIO       9950\n",
              "HOSPITALIZADO    83670\n",
              "Name: tipo_paciente, dtype: int64"
            ]
          },
          "metadata": {
            "tags": []
          },
          "execution_count": 147
        }
      ]
    },
    {
      "cell_type": "code",
      "metadata": {
        "id": "YrN1AeRWLUW3",
        "colab_type": "code",
        "colab": {
          "base_uri": "https://localhost:8080/",
          "height": 87
        },
        "outputId": "b337e93b-c900-436a-a517-2b828297c4bb"
      },
      "source": [
        "#Prueba para validar si la data de hipertensión está correcta y si los errores previos son cuestión de: Syntaxis, data ó la elección de funciones.\n",
        "\n",
        "data.hipertension.value_counts()"
      ],
      "execution_count": 140,
      "outputs": [
        {
          "output_type": "execute_result",
          "data": {
            "text/plain": [
              "NO           1323409\n",
              "SI            252537\n",
              "SE IGNORA       4431\n",
              "Name: hipertension, dtype: int64"
            ]
          },
          "metadata": {
            "tags": []
          },
          "execution_count": 140
        }
      ]
    },
    {
      "cell_type": "code",
      "metadata": {
        "id": "dNPfQv5JLksM",
        "colab_type": "code",
        "colab": {
          "base_uri": "https://localhost:8080/",
          "height": 70
        },
        "outputId": "66017f77-2bfb-4380-a55a-7c8e9a7c2254"
      },
      "source": [
        "#Prueba para validar si la data de defunciones está correcta y si los errores previos son cuestión de: Syntaxis, data ó la elección de funciones.\n",
        "data.defuncion.value_counts()"
      ],
      "execution_count": 141,
      "outputs": [
        {
          "output_type": "execute_result",
          "data": {
            "text/plain": [
              "False    1486757\n",
              "True       93620\n",
              "Name: defuncion, dtype: int64"
            ]
          },
          "metadata": {
            "tags": []
          },
          "execution_count": 141
        }
      ]
    }
  ]
}